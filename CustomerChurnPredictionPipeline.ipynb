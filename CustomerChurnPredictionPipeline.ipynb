{
 "cells": [
  {
   "cell_type": "code",
   "execution_count": 1,
   "metadata": {
    "pycharm": {
     "name": "#%%\n"
    }
   },
   "outputs": [],
   "source": [
    "#pip install lightgbm xgboost"
   ]
  },
  {
   "cell_type": "markdown",
   "metadata": {},
   "source": [
    "## Setting up and overview"
   ]
  },
  {
   "cell_type": "code",
   "execution_count": 2,
   "metadata": {
    "pycharm": {
     "name": "#%%\n"
    }
   },
   "outputs": [],
   "source": [
    "%matplotlib inline"
   ]
  },
  {
   "cell_type": "code",
   "execution_count": 3,
   "metadata": {
    "pycharm": {
     "name": "#%%\n"
    }
   },
   "outputs": [],
   "source": [
    "## Import required libraries\n",
    "import pandas as pd\n",
    "import numpy as np\n",
    "import matplotlib.pyplot as plt\n",
    "import seaborn as sns"
   ]
  },
  {
   "cell_type": "code",
   "execution_count": 4,
   "metadata": {
    "pycharm": {
     "name": "#%%\n"
    }
   },
   "outputs": [],
   "source": [
    "## Get multiple outputs in the same cell\n",
    "from IPython.core.interactiveshell import InteractiveShell\n",
    "InteractiveShell.ast_node_interactivity = \"all\"\n",
    "\n",
    "## Ignore all warnings\n",
    "import warnings\n",
    "warnings.filterwarnings('ignore')\n",
    "warnings.filterwarnings(action='ignore', category=DeprecationWarning)"
   ]
  },
  {
   "cell_type": "code",
   "execution_count": 5,
   "metadata": {
    "pycharm": {
     "name": "#%%\n"
    }
   },
   "outputs": [],
   "source": [
    "## Display all rows and columns of a dataframe instead of a truncated version\n",
    "from IPython.display import display\n",
    "pd.set_option('display.max_columns', None)\n",
    "pd.set_option('display.max_rows', None)"
   ]
  },
  {
   "cell_type": "code",
   "execution_count": 6,
   "metadata": {
    "pycharm": {
     "name": "#%%\n"
    }
   },
   "outputs": [],
   "source": [
    "## Reading the dataset\n",
    "# This might be present in S3, or obtained through a query on a database\n",
    "df = pd.read_csv('Churn_Modelling.csv')"
   ]
  },
  {
   "cell_type": "code",
   "execution_count": 7,
   "metadata": {
    "pycharm": {
     "name": "#%%\n"
    }
   },
   "outputs": [
    {
     "data": {
      "text/plain": [
       "(10000, 14)"
      ]
     },
     "execution_count": 7,
     "metadata": {},
     "output_type": "execute_result"
    }
   ],
   "source": [
    "df.shape"
   ]
  },
  {
   "cell_type": "code",
   "execution_count": 8,
   "metadata": {
    "pycharm": {
     "name": "#%%\n"
    }
   },
   "outputs": [
    {
     "data": {
      "text/html": [
       "<div>\n",
       "<style scoped>\n",
       "    .dataframe tbody tr th:only-of-type {\n",
       "        vertical-align: middle;\n",
       "    }\n",
       "\n",
       "    .dataframe tbody tr th {\n",
       "        vertical-align: top;\n",
       "    }\n",
       "\n",
       "    .dataframe thead th {\n",
       "        text-align: right;\n",
       "    }\n",
       "</style>\n",
       "<table border=\"1\" class=\"dataframe\">\n",
       "  <thead>\n",
       "    <tr style=\"text-align: right;\">\n",
       "      <th></th>\n",
       "      <th>0</th>\n",
       "      <th>1</th>\n",
       "      <th>2</th>\n",
       "      <th>3</th>\n",
       "      <th>4</th>\n",
       "      <th>5</th>\n",
       "      <th>6</th>\n",
       "      <th>7</th>\n",
       "      <th>8</th>\n",
       "      <th>9</th>\n",
       "    </tr>\n",
       "  </thead>\n",
       "  <tbody>\n",
       "    <tr>\n",
       "      <th>RowNumber</th>\n",
       "      <td>1</td>\n",
       "      <td>2</td>\n",
       "      <td>3</td>\n",
       "      <td>4</td>\n",
       "      <td>5</td>\n",
       "      <td>6</td>\n",
       "      <td>7</td>\n",
       "      <td>8</td>\n",
       "      <td>9</td>\n",
       "      <td>10</td>\n",
       "    </tr>\n",
       "    <tr>\n",
       "      <th>CustomerId</th>\n",
       "      <td>15634602</td>\n",
       "      <td>15647311</td>\n",
       "      <td>15619304</td>\n",
       "      <td>15701354</td>\n",
       "      <td>15737888</td>\n",
       "      <td>15574012</td>\n",
       "      <td>15592531</td>\n",
       "      <td>15656148</td>\n",
       "      <td>15792365</td>\n",
       "      <td>15592389</td>\n",
       "    </tr>\n",
       "    <tr>\n",
       "      <th>Surname</th>\n",
       "      <td>Hargrave</td>\n",
       "      <td>Hill</td>\n",
       "      <td>Onio</td>\n",
       "      <td>Boni</td>\n",
       "      <td>Mitchell</td>\n",
       "      <td>Chu</td>\n",
       "      <td>Bartlett</td>\n",
       "      <td>Obinna</td>\n",
       "      <td>He</td>\n",
       "      <td>H?</td>\n",
       "    </tr>\n",
       "    <tr>\n",
       "      <th>CreditScore</th>\n",
       "      <td>619</td>\n",
       "      <td>608</td>\n",
       "      <td>502</td>\n",
       "      <td>699</td>\n",
       "      <td>850</td>\n",
       "      <td>645</td>\n",
       "      <td>822</td>\n",
       "      <td>376</td>\n",
       "      <td>501</td>\n",
       "      <td>684</td>\n",
       "    </tr>\n",
       "    <tr>\n",
       "      <th>Geography</th>\n",
       "      <td>France</td>\n",
       "      <td>Spain</td>\n",
       "      <td>France</td>\n",
       "      <td>France</td>\n",
       "      <td>Spain</td>\n",
       "      <td>Spain</td>\n",
       "      <td>France</td>\n",
       "      <td>Germany</td>\n",
       "      <td>France</td>\n",
       "      <td>France</td>\n",
       "    </tr>\n",
       "    <tr>\n",
       "      <th>Gender</th>\n",
       "      <td>Female</td>\n",
       "      <td>Female</td>\n",
       "      <td>Female</td>\n",
       "      <td>Female</td>\n",
       "      <td>Female</td>\n",
       "      <td>Male</td>\n",
       "      <td>Male</td>\n",
       "      <td>Female</td>\n",
       "      <td>Male</td>\n",
       "      <td>Male</td>\n",
       "    </tr>\n",
       "    <tr>\n",
       "      <th>Age</th>\n",
       "      <td>42</td>\n",
       "      <td>41</td>\n",
       "      <td>42</td>\n",
       "      <td>39</td>\n",
       "      <td>43</td>\n",
       "      <td>44</td>\n",
       "      <td>50</td>\n",
       "      <td>29</td>\n",
       "      <td>44</td>\n",
       "      <td>27</td>\n",
       "    </tr>\n",
       "    <tr>\n",
       "      <th>Tenure</th>\n",
       "      <td>2</td>\n",
       "      <td>1</td>\n",
       "      <td>8</td>\n",
       "      <td>1</td>\n",
       "      <td>2</td>\n",
       "      <td>8</td>\n",
       "      <td>7</td>\n",
       "      <td>4</td>\n",
       "      <td>4</td>\n",
       "      <td>2</td>\n",
       "    </tr>\n",
       "    <tr>\n",
       "      <th>Balance</th>\n",
       "      <td>0</td>\n",
       "      <td>83807.9</td>\n",
       "      <td>159661</td>\n",
       "      <td>0</td>\n",
       "      <td>125511</td>\n",
       "      <td>113756</td>\n",
       "      <td>0</td>\n",
       "      <td>115047</td>\n",
       "      <td>142051</td>\n",
       "      <td>134604</td>\n",
       "    </tr>\n",
       "    <tr>\n",
       "      <th>NumOfProducts</th>\n",
       "      <td>1</td>\n",
       "      <td>1</td>\n",
       "      <td>3</td>\n",
       "      <td>2</td>\n",
       "      <td>1</td>\n",
       "      <td>2</td>\n",
       "      <td>2</td>\n",
       "      <td>4</td>\n",
       "      <td>2</td>\n",
       "      <td>1</td>\n",
       "    </tr>\n",
       "    <tr>\n",
       "      <th>HasCrCard</th>\n",
       "      <td>1</td>\n",
       "      <td>0</td>\n",
       "      <td>1</td>\n",
       "      <td>0</td>\n",
       "      <td>1</td>\n",
       "      <td>1</td>\n",
       "      <td>1</td>\n",
       "      <td>1</td>\n",
       "      <td>0</td>\n",
       "      <td>1</td>\n",
       "    </tr>\n",
       "    <tr>\n",
       "      <th>IsActiveMember</th>\n",
       "      <td>1</td>\n",
       "      <td>1</td>\n",
       "      <td>0</td>\n",
       "      <td>0</td>\n",
       "      <td>1</td>\n",
       "      <td>0</td>\n",
       "      <td>1</td>\n",
       "      <td>0</td>\n",
       "      <td>1</td>\n",
       "      <td>1</td>\n",
       "    </tr>\n",
       "    <tr>\n",
       "      <th>EstimatedSalary</th>\n",
       "      <td>101349</td>\n",
       "      <td>112543</td>\n",
       "      <td>113932</td>\n",
       "      <td>93826.6</td>\n",
       "      <td>79084.1</td>\n",
       "      <td>149757</td>\n",
       "      <td>10062.8</td>\n",
       "      <td>119347</td>\n",
       "      <td>74940.5</td>\n",
       "      <td>71725.7</td>\n",
       "    </tr>\n",
       "    <tr>\n",
       "      <th>Exited</th>\n",
       "      <td>1</td>\n",
       "      <td>0</td>\n",
       "      <td>1</td>\n",
       "      <td>0</td>\n",
       "      <td>0</td>\n",
       "      <td>1</td>\n",
       "      <td>0</td>\n",
       "      <td>1</td>\n",
       "      <td>0</td>\n",
       "      <td>0</td>\n",
       "    </tr>\n",
       "  </tbody>\n",
       "</table>\n",
       "</div>"
      ],
      "text/plain": [
       "                        0         1         2         3         4         5  \\\n",
       "RowNumber               1         2         3         4         5         6   \n",
       "CustomerId       15634602  15647311  15619304  15701354  15737888  15574012   \n",
       "Surname          Hargrave      Hill      Onio      Boni  Mitchell       Chu   \n",
       "CreditScore           619       608       502       699       850       645   \n",
       "Geography          France     Spain    France    France     Spain     Spain   \n",
       "Gender             Female    Female    Female    Female    Female      Male   \n",
       "Age                    42        41        42        39        43        44   \n",
       "Tenure                  2         1         8         1         2         8   \n",
       "Balance                 0   83807.9    159661         0    125511    113756   \n",
       "NumOfProducts           1         1         3         2         1         2   \n",
       "HasCrCard               1         0         1         0         1         1   \n",
       "IsActiveMember          1         1         0         0         1         0   \n",
       "EstimatedSalary    101349    112543    113932   93826.6   79084.1    149757   \n",
       "Exited                  1         0         1         0         0         1   \n",
       "\n",
       "                        6         7         8         9  \n",
       "RowNumber               7         8         9        10  \n",
       "CustomerId       15592531  15656148  15792365  15592389  \n",
       "Surname          Bartlett    Obinna        He        H?  \n",
       "CreditScore           822       376       501       684  \n",
       "Geography          France   Germany    France    France  \n",
       "Gender               Male    Female      Male      Male  \n",
       "Age                    50        29        44        27  \n",
       "Tenure                  7         4         4         2  \n",
       "Balance                 0    115047    142051    134604  \n",
       "NumOfProducts           2         4         2         1  \n",
       "HasCrCard               1         1         0         1  \n",
       "IsActiveMember          1         0         1         1  \n",
       "EstimatedSalary   10062.8    119347   74940.5   71725.7  \n",
       "Exited                  0         1         0         0  "
      ]
     },
     "execution_count": 8,
     "metadata": {},
     "output_type": "execute_result"
    }
   ],
   "source": [
    "df.head(10).T"
   ]
  },
  {
   "cell_type": "markdown",
   "metadata": {},
   "source": [
    "### Basic EDA"
   ]
  },
  {
   "cell_type": "code",
   "execution_count": 9,
   "metadata": {
    "pycharm": {
     "name": "#%%\n"
    },
    "scrolled": true
   },
   "outputs": [
    {
     "data": {
      "text/html": [
       "<div>\n",
       "<style scoped>\n",
       "    .dataframe tbody tr th:only-of-type {\n",
       "        vertical-align: middle;\n",
       "    }\n",
       "\n",
       "    .dataframe tbody tr th {\n",
       "        vertical-align: top;\n",
       "    }\n",
       "\n",
       "    .dataframe thead th {\n",
       "        text-align: right;\n",
       "    }\n",
       "</style>\n",
       "<table border=\"1\" class=\"dataframe\">\n",
       "  <thead>\n",
       "    <tr style=\"text-align: right;\">\n",
       "      <th></th>\n",
       "      <th>RowNumber</th>\n",
       "      <th>CustomerId</th>\n",
       "      <th>CreditScore</th>\n",
       "      <th>Age</th>\n",
       "      <th>Tenure</th>\n",
       "      <th>Balance</th>\n",
       "      <th>NumOfProducts</th>\n",
       "      <th>HasCrCard</th>\n",
       "      <th>IsActiveMember</th>\n",
       "      <th>EstimatedSalary</th>\n",
       "      <th>Exited</th>\n",
       "    </tr>\n",
       "  </thead>\n",
       "  <tbody>\n",
       "    <tr>\n",
       "      <th>count</th>\n",
       "      <td>10000.00000</td>\n",
       "      <td>1.000000e+04</td>\n",
       "      <td>10000.000000</td>\n",
       "      <td>10000.000000</td>\n",
       "      <td>10000.000000</td>\n",
       "      <td>10000.000000</td>\n",
       "      <td>10000.000000</td>\n",
       "      <td>10000.00000</td>\n",
       "      <td>10000.000000</td>\n",
       "      <td>10000.000000</td>\n",
       "      <td>10000.000000</td>\n",
       "    </tr>\n",
       "    <tr>\n",
       "      <th>mean</th>\n",
       "      <td>5000.50000</td>\n",
       "      <td>1.569094e+07</td>\n",
       "      <td>650.528800</td>\n",
       "      <td>38.921800</td>\n",
       "      <td>5.012800</td>\n",
       "      <td>76485.889288</td>\n",
       "      <td>1.530200</td>\n",
       "      <td>0.70550</td>\n",
       "      <td>0.515100</td>\n",
       "      <td>100090.239881</td>\n",
       "      <td>0.203700</td>\n",
       "    </tr>\n",
       "    <tr>\n",
       "      <th>std</th>\n",
       "      <td>2886.89568</td>\n",
       "      <td>7.193619e+04</td>\n",
       "      <td>96.653299</td>\n",
       "      <td>10.487806</td>\n",
       "      <td>2.892174</td>\n",
       "      <td>62397.405202</td>\n",
       "      <td>0.581654</td>\n",
       "      <td>0.45584</td>\n",
       "      <td>0.499797</td>\n",
       "      <td>57510.492818</td>\n",
       "      <td>0.402769</td>\n",
       "    </tr>\n",
       "    <tr>\n",
       "      <th>min</th>\n",
       "      <td>1.00000</td>\n",
       "      <td>1.556570e+07</td>\n",
       "      <td>350.000000</td>\n",
       "      <td>18.000000</td>\n",
       "      <td>0.000000</td>\n",
       "      <td>0.000000</td>\n",
       "      <td>1.000000</td>\n",
       "      <td>0.00000</td>\n",
       "      <td>0.000000</td>\n",
       "      <td>11.580000</td>\n",
       "      <td>0.000000</td>\n",
       "    </tr>\n",
       "    <tr>\n",
       "      <th>25%</th>\n",
       "      <td>2500.75000</td>\n",
       "      <td>1.562853e+07</td>\n",
       "      <td>584.000000</td>\n",
       "      <td>32.000000</td>\n",
       "      <td>3.000000</td>\n",
       "      <td>0.000000</td>\n",
       "      <td>1.000000</td>\n",
       "      <td>0.00000</td>\n",
       "      <td>0.000000</td>\n",
       "      <td>51002.110000</td>\n",
       "      <td>0.000000</td>\n",
       "    </tr>\n",
       "    <tr>\n",
       "      <th>50%</th>\n",
       "      <td>5000.50000</td>\n",
       "      <td>1.569074e+07</td>\n",
       "      <td>652.000000</td>\n",
       "      <td>37.000000</td>\n",
       "      <td>5.000000</td>\n",
       "      <td>97198.540000</td>\n",
       "      <td>1.000000</td>\n",
       "      <td>1.00000</td>\n",
       "      <td>1.000000</td>\n",
       "      <td>100193.915000</td>\n",
       "      <td>0.000000</td>\n",
       "    </tr>\n",
       "    <tr>\n",
       "      <th>75%</th>\n",
       "      <td>7500.25000</td>\n",
       "      <td>1.575323e+07</td>\n",
       "      <td>718.000000</td>\n",
       "      <td>44.000000</td>\n",
       "      <td>7.000000</td>\n",
       "      <td>127644.240000</td>\n",
       "      <td>2.000000</td>\n",
       "      <td>1.00000</td>\n",
       "      <td>1.000000</td>\n",
       "      <td>149388.247500</td>\n",
       "      <td>0.000000</td>\n",
       "    </tr>\n",
       "    <tr>\n",
       "      <th>max</th>\n",
       "      <td>10000.00000</td>\n",
       "      <td>1.581569e+07</td>\n",
       "      <td>850.000000</td>\n",
       "      <td>92.000000</td>\n",
       "      <td>10.000000</td>\n",
       "      <td>250898.090000</td>\n",
       "      <td>4.000000</td>\n",
       "      <td>1.00000</td>\n",
       "      <td>1.000000</td>\n",
       "      <td>199992.480000</td>\n",
       "      <td>1.000000</td>\n",
       "    </tr>\n",
       "  </tbody>\n",
       "</table>\n",
       "</div>"
      ],
      "text/plain": [
       "         RowNumber    CustomerId   CreditScore           Age        Tenure  \\\n",
       "count  10000.00000  1.000000e+04  10000.000000  10000.000000  10000.000000   \n",
       "mean    5000.50000  1.569094e+07    650.528800     38.921800      5.012800   \n",
       "std     2886.89568  7.193619e+04     96.653299     10.487806      2.892174   \n",
       "min        1.00000  1.556570e+07    350.000000     18.000000      0.000000   \n",
       "25%     2500.75000  1.562853e+07    584.000000     32.000000      3.000000   \n",
       "50%     5000.50000  1.569074e+07    652.000000     37.000000      5.000000   \n",
       "75%     7500.25000  1.575323e+07    718.000000     44.000000      7.000000   \n",
       "max    10000.00000  1.581569e+07    850.000000     92.000000     10.000000   \n",
       "\n",
       "             Balance  NumOfProducts    HasCrCard  IsActiveMember  \\\n",
       "count   10000.000000   10000.000000  10000.00000    10000.000000   \n",
       "mean    76485.889288       1.530200      0.70550        0.515100   \n",
       "std     62397.405202       0.581654      0.45584        0.499797   \n",
       "min         0.000000       1.000000      0.00000        0.000000   \n",
       "25%         0.000000       1.000000      0.00000        0.000000   \n",
       "50%     97198.540000       1.000000      1.00000        1.000000   \n",
       "75%    127644.240000       2.000000      1.00000        1.000000   \n",
       "max    250898.090000       4.000000      1.00000        1.000000   \n",
       "\n",
       "       EstimatedSalary        Exited  \n",
       "count     10000.000000  10000.000000  \n",
       "mean     100090.239881      0.203700  \n",
       "std       57510.492818      0.402769  \n",
       "min          11.580000      0.000000  \n",
       "25%       51002.110000      0.000000  \n",
       "50%      100193.915000      0.000000  \n",
       "75%      149388.247500      0.000000  \n",
       "max      199992.480000      1.000000  "
      ]
     },
     "execution_count": 9,
     "metadata": {},
     "output_type": "execute_result"
    },
    {
     "data": {
      "text/html": [
       "<div>\n",
       "<style scoped>\n",
       "    .dataframe tbody tr th:only-of-type {\n",
       "        vertical-align: middle;\n",
       "    }\n",
       "\n",
       "    .dataframe tbody tr th {\n",
       "        vertical-align: top;\n",
       "    }\n",
       "\n",
       "    .dataframe thead th {\n",
       "        text-align: right;\n",
       "    }\n",
       "</style>\n",
       "<table border=\"1\" class=\"dataframe\">\n",
       "  <thead>\n",
       "    <tr style=\"text-align: right;\">\n",
       "      <th></th>\n",
       "      <th>Surname</th>\n",
       "      <th>Geography</th>\n",
       "      <th>Gender</th>\n",
       "    </tr>\n",
       "  </thead>\n",
       "  <tbody>\n",
       "    <tr>\n",
       "      <th>count</th>\n",
       "      <td>10000</td>\n",
       "      <td>10000</td>\n",
       "      <td>10000</td>\n",
       "    </tr>\n",
       "    <tr>\n",
       "      <th>unique</th>\n",
       "      <td>2932</td>\n",
       "      <td>3</td>\n",
       "      <td>2</td>\n",
       "    </tr>\n",
       "    <tr>\n",
       "      <th>top</th>\n",
       "      <td>Smith</td>\n",
       "      <td>France</td>\n",
       "      <td>Male</td>\n",
       "    </tr>\n",
       "    <tr>\n",
       "      <th>freq</th>\n",
       "      <td>32</td>\n",
       "      <td>5014</td>\n",
       "      <td>5457</td>\n",
       "    </tr>\n",
       "  </tbody>\n",
       "</table>\n",
       "</div>"
      ],
      "text/plain": [
       "       Surname Geography Gender\n",
       "count    10000     10000  10000\n",
       "unique    2932         3      2\n",
       "top      Smith    France   Male\n",
       "freq        32      5014   5457"
      ]
     },
     "execution_count": 9,
     "metadata": {},
     "output_type": "execute_result"
    }
   ],
   "source": [
    "df.describe() # Describe all numerical columns\n",
    "df.describe(include = ['O']) # Describe all non-numerical/categorical columns"
   ]
  },
  {
   "cell_type": "code",
   "execution_count": 10,
   "metadata": {
    "pycharm": {
     "name": "#%%\n"
    }
   },
   "outputs": [
    {
     "data": {
      "text/plain": [
       "(10000, 10000)"
      ]
     },
     "execution_count": 10,
     "metadata": {},
     "output_type": "execute_result"
    }
   ],
   "source": [
    "## Checking number of unique customers in the dataset\n",
    "df.shape[0], df.CustomerId.nunique()"
   ]
  },
  {
   "cell_type": "code",
   "execution_count": 11,
   "metadata": {
    "pycharm": {
     "name": "#%%\n"
    }
   },
   "outputs": [],
   "source": [
    "df_t = df.groupby(['Surname']).agg({'RowNumber':'count', 'Exited':'mean'}\n",
    "                                  ).reset_index().sort_values(by='RowNumber', ascending=False)"
   ]
  },
  {
   "cell_type": "code",
   "execution_count": 12,
   "metadata": {
    "pycharm": {
     "name": "#%%\n"
    }
   },
   "outputs": [
    {
     "data": {
      "text/html": [
       "<div>\n",
       "<style scoped>\n",
       "    .dataframe tbody tr th:only-of-type {\n",
       "        vertical-align: middle;\n",
       "    }\n",
       "\n",
       "    .dataframe tbody tr th {\n",
       "        vertical-align: top;\n",
       "    }\n",
       "\n",
       "    .dataframe thead th {\n",
       "        text-align: right;\n",
       "    }\n",
       "</style>\n",
       "<table border=\"1\" class=\"dataframe\">\n",
       "  <thead>\n",
       "    <tr style=\"text-align: right;\">\n",
       "      <th></th>\n",
       "      <th>Surname</th>\n",
       "      <th>RowNumber</th>\n",
       "      <th>Exited</th>\n",
       "    </tr>\n",
       "  </thead>\n",
       "  <tbody>\n",
       "    <tr>\n",
       "      <th>2473</th>\n",
       "      <td>Smith</td>\n",
       "      <td>32</td>\n",
       "      <td>0.281250</td>\n",
       "    </tr>\n",
       "    <tr>\n",
       "      <th>1689</th>\n",
       "      <td>Martin</td>\n",
       "      <td>29</td>\n",
       "      <td>0.310345</td>\n",
       "    </tr>\n",
       "    <tr>\n",
       "      <th>2389</th>\n",
       "      <td>Scott</td>\n",
       "      <td>29</td>\n",
       "      <td>0.103448</td>\n",
       "    </tr>\n",
       "    <tr>\n",
       "      <th>2751</th>\n",
       "      <td>Walker</td>\n",
       "      <td>28</td>\n",
       "      <td>0.142857</td>\n",
       "    </tr>\n",
       "    <tr>\n",
       "      <th>336</th>\n",
       "      <td>Brown</td>\n",
       "      <td>26</td>\n",
       "      <td>0.192308</td>\n",
       "    </tr>\n",
       "  </tbody>\n",
       "</table>\n",
       "</div>"
      ],
      "text/plain": [
       "     Surname  RowNumber    Exited\n",
       "2473   Smith         32  0.281250\n",
       "1689  Martin         29  0.310345\n",
       "2389   Scott         29  0.103448\n",
       "2751  Walker         28  0.142857\n",
       "336    Brown         26  0.192308"
      ]
     },
     "execution_count": 12,
     "metadata": {},
     "output_type": "execute_result"
    }
   ],
   "source": [
    "df_t.head()"
   ]
  },
  {
   "cell_type": "code",
   "execution_count": 13,
   "metadata": {
    "pycharm": {
     "name": "#%%\n"
    }
   },
   "outputs": [
    {
     "data": {
      "text/plain": [
       "France     0.5014\n",
       "Germany    0.2509\n",
       "Spain      0.2477\n",
       "Name: Geography, dtype: float64"
      ]
     },
     "execution_count": 13,
     "metadata": {},
     "output_type": "execute_result"
    }
   ],
   "source": [
    "df.Geography.value_counts(normalize=True)"
   ]
  },
  {
   "cell_type": "code",
   "execution_count": null,
   "metadata": {
    "pycharm": {
     "name": "#%%\n"
    }
   },
   "outputs": [],
   "source": []
  },
  {
   "cell_type": "code",
   "execution_count": 14,
   "metadata": {
    "pycharm": {
     "name": "#%%\n"
    }
   },
   "outputs": [],
   "source": [
    "## Separating out different columns into various categories as defined above\n",
    "target_var = ['Exited']\n",
    "cols_to_remove = ['RowNumber', 'CustomerId']\n",
    "num_feats = ['CreditScore', 'Age', 'Tenure', 'Balance', 'NumOfProducts', 'EstimatedSalary']\n",
    "cat_feats = ['Surname', 'Geography', 'Gender', 'HasCrCard', 'IsActiveMember']"
   ]
  },
  {
   "cell_type": "markdown",
   "metadata": {},
   "source": [
    "Tenure and NumOfProducts are ordinal variables. HasCrCard and IsActiveMember are binary categorical variables."
   ]
  },
  {
   "cell_type": "code",
   "execution_count": 15,
   "metadata": {
    "pycharm": {
     "name": "#%%\n"
    }
   },
   "outputs": [],
   "source": [
    "## Removing the non-essential columns\n",
    "y = df[target_var].values\n",
    "df.drop(cols_to_remove, axis=1, inplace=True)"
   ]
  },
  {
   "cell_type": "code",
   "execution_count": null,
   "metadata": {
    "pycharm": {
     "name": "#%%\n"
    }
   },
   "outputs": [],
   "source": []
  },
  {
   "cell_type": "code",
   "execution_count": null,
   "metadata": {
    "pycharm": {
     "name": "#%%\n"
    }
   },
   "outputs": [],
   "source": []
  },
  {
   "cell_type": "markdown",
   "metadata": {},
   "source": [
    "### Setting up train, test, and validation sets"
   ]
  },
  {
   "cell_type": "code",
   "execution_count": 16,
   "metadata": {
    "pycharm": {
     "name": "#%%\n"
    }
   },
   "outputs": [],
   "source": [
    "from sklearn.model_selection import train_test_split"
   ]
  },
  {
   "cell_type": "code",
   "execution_count": 17,
   "metadata": {
    "pycharm": {
     "name": "#%%\n"
    }
   },
   "outputs": [],
   "source": [
    "## Keeping aside a test/holdout set\n",
    "df_train_val, df_test, y_train_val, y_test = train_test_split(df, y.ravel(), test_size = 0.1, random_state = 42)\n",
    "\n",
    "## Splitting into train and validation set\n",
    "df_train, df_val, y_train, y_val = train_test_split(df_train_val, y_train_val, test_size = 0.12, random_state = 42)"
   ]
  },
  {
   "cell_type": "code",
   "execution_count": 18,
   "metadata": {
    "pycharm": {
     "name": "#%%\n"
    }
   },
   "outputs": [
    {
     "data": {
      "text/plain": [
       "((7920, 12), (1080, 12), (1000, 12), (7920,), (1080,), (1000,))"
      ]
     },
     "execution_count": 18,
     "metadata": {},
     "output_type": "execute_result"
    },
    {
     "data": {
      "text/plain": [
       "(0.20303030303030303, 0.22037037037037038, 0.191)"
      ]
     },
     "execution_count": 18,
     "metadata": {},
     "output_type": "execute_result"
    }
   ],
   "source": [
    "df_train.shape, df_val.shape, df_test.shape, y_train.shape, y_val.shape, y_test.shape\n",
    "np.mean(y_train), np.mean(y_val), np.mean(y_test)"
   ]
  },
  {
   "cell_type": "code",
   "execution_count": null,
   "metadata": {
    "pycharm": {
     "name": "#%%\n"
    }
   },
   "outputs": [],
   "source": []
  },
  {
   "cell_type": "markdown",
   "metadata": {},
   "source": [
    "### Comparing various algorithms\n",
    "\n",
    "\n",
    "- Automate data preparation and model run through Pipelines\n",
    "\n",
    "- Model Zoo : List of all models to compare\n",
    "\n",
    "- Evaluate using k-fold Cross validation"
   ]
  },
  {
   "cell_type": "code",
   "execution_count": 19,
   "metadata": {
    "pycharm": {
     "name": "#%%\n"
    }
   },
   "outputs": [],
   "source": [
    "from sklearn.base import BaseEstimator, TransformerMixin"
   ]
  },
  {
   "cell_type": "code",
   "execution_count": 20,
   "metadata": {
    "pycharm": {
     "name": "#%%\n"
    }
   },
   "outputs": [],
   "source": [
    "class CategoricalEncoder(BaseEstimator, TransformerMixin):\n",
    "    \"\"\" \n",
    "    Encodes categorical columns using LabelEncoding, OneHotEncoding and TargetEncoding.\n",
    "    LabelEncoding is used for binary categorical columns\n",
    "    OneHotEncoding is used for columns with <= 10 distinct values\n",
    "    TargetEncoding is used for columns with higher cardinality (>10 distinct values)\n",
    "    \n",
    "    \"\"\"\n",
    "\n",
    "    def __init__(self, cols = None, lcols = None, ohecols = None, tcols = None, reduce_df = False):\n",
    "        \"\"\"\n",
    "        \n",
    "        Parameters\n",
    "        ----------\n",
    "        cols : list of str\n",
    "            Columns to encode.  Default is to one-hot/target/label encode all categorical columns in the DataFrame.\n",
    "        reduce_df : bool\n",
    "            Whether to use reduced degrees of freedom for encoding\n",
    "            (that is, add N-1 one-hot columns for a column with N \n",
    "            categories). E.g. for a column with categories A, B, \n",
    "            and C: When reduce_df is True, A=[1, 0], B=[0, 1],\n",
    "            and C=[0, 0].  When reduce_df is False, A=[1, 0, 0], \n",
    "            B=[0, 1, 0], and C=[0, 0, 1]\n",
    "            Default = False\n",
    "        \n",
    "        \"\"\"\n",
    "        \n",
    "        if isinstance(cols,str):\n",
    "            self.cols = [cols]\n",
    "        else :\n",
    "            self.cols = cols\n",
    "        \n",
    "        if isinstance(lcols,str):\n",
    "            self.lcols = [lcols]\n",
    "        else :\n",
    "            self.lcols = lcols\n",
    "        \n",
    "        if isinstance(ohecols,str):\n",
    "            self.ohecols = [ohecols]\n",
    "        else :\n",
    "            self.ohecols = ohecols\n",
    "        \n",
    "        if isinstance(tcols,str):\n",
    "            self.tcols = [tcols]\n",
    "        else :\n",
    "            self.tcols = tcols\n",
    "        \n",
    "        self.reduce_df = reduce_df\n",
    "    \n",
    "    \n",
    "    def fit(self, X, y):\n",
    "        \"\"\"Fit label/one-hot/target encoder to X and y\n",
    "        \n",
    "        Parameters\n",
    "        ----------\n",
    "        X : pandas DataFrame, shape [n_samples, n_columns]\n",
    "            DataFrame containing columns to encode\n",
    "        y : pandas Series, shape = [n_samples]\n",
    "            Target values.\n",
    "            \n",
    "        Returns\n",
    "        -------\n",
    "        self : encoder\n",
    "            Returns self.\n",
    "        \"\"\"\n",
    "        \n",
    "        # Encode all categorical cols by default\n",
    "        if self.cols is None:\n",
    "            self.cols = [c for c in X if str(X[c].dtype)=='object']\n",
    "\n",
    "        # Check columns are in X\n",
    "        for col in self.cols:\n",
    "            if col not in X:\n",
    "                raise ValueError('Column \\''+col+'\\' not in X')\n",
    "        \n",
    "        # Separating out lcols, ohecols and tcols\n",
    "        if self.lcols is None:\n",
    "            self.lcols = [c for c in self.cols if X[c].nunique() <= 2]\n",
    "        \n",
    "        if self.ohecols is None:\n",
    "            self.ohecols = [c for c in self.cols if ((X[c].nunique() > 2) & (X[c].nunique() <= 10))]\n",
    "        \n",
    "        if self.tcols is None:\n",
    "            self.tcols = [c for c in self.cols if X[c].nunique() > 10]\n",
    "        \n",
    "        \n",
    "        ## Create Label Encoding mapping\n",
    "        self.lmaps = dict()\n",
    "        for col in self.lcols:\n",
    "            self.lmaps[col] = dict(zip(X[col].values, X[col].astype('category').cat.codes.values))\n",
    "        \n",
    "        \n",
    "        ## Create OneHot Encoding mapping\n",
    "        self.ohemaps = dict() #dict to store map for each column\n",
    "        for col in self.ohecols:\n",
    "            self.ohemaps[col] = []\n",
    "            uniques = X[col].unique()\n",
    "            for unique in uniques:\n",
    "                self.ohemaps[col].append(unique)\n",
    "            if self.reduce_df:\n",
    "                del self.ohemaps[col][-1]\n",
    "        \n",
    "        \n",
    "        ## Create Target Encoding mapping\n",
    "        self.global_target_mean = y.mean().round(2)\n",
    "        self.sum_count = dict()\n",
    "        for col in self.tcols:\n",
    "            self.sum_count[col] = dict()\n",
    "            uniques = X[col].unique()\n",
    "            for unique in uniques:\n",
    "                ix = X[col]==unique\n",
    "                self.sum_count[col][unique] = (y[ix].sum(),ix.sum())\n",
    "        \n",
    "        \n",
    "        ## Return the fit object\n",
    "        return self\n",
    "    \n",
    "    \n",
    "    def transform(self, X, y=None):\n",
    "        \"\"\"Perform label/one-hot/target encoding transformation.\n",
    "        \n",
    "        Parameters\n",
    "        ----------\n",
    "        X : pandas DataFrame, shape [n_samples, n_columns]\n",
    "            DataFrame containing columns to label encode\n",
    "            \n",
    "        Returns\n",
    "        -------\n",
    "        pandas DataFrame\n",
    "            Input DataFrame with transformed columns\n",
    "        \"\"\"\n",
    "        \n",
    "        Xo = X.copy()\n",
    "        ## Perform label encoding transformation\n",
    "        for col, lmap in self.lmaps.items():\n",
    "            \n",
    "            # Map the column\n",
    "            Xo[col] = Xo[col].map(lmap)\n",
    "            Xo[col].fillna(-1, inplace=True) ## Filling new values with -1\n",
    "        \n",
    "        \n",
    "        ## Perform one-hot encoding transformation\n",
    "        for col, vals in self.ohemaps.items():\n",
    "            for val in vals:\n",
    "                new_col = col+'_'+str(val)\n",
    "                Xo[new_col] = (Xo[col]==val).astype('uint8')\n",
    "            del Xo[col]\n",
    "        \n",
    "        \n",
    "        ## Perform LOO target encoding transformation\n",
    "        # Use normal target encoding if this is test data\n",
    "        if y is None:\n",
    "            for col in self.sum_count:\n",
    "                vals = np.full(X.shape[0], np.nan)\n",
    "                for cat, sum_count in self.sum_count[col].items():\n",
    "                    vals[X[col]==cat] = (sum_count[0]/sum_count[1]).round(2)\n",
    "                Xo[col] = vals\n",
    "                Xo[col].fillna(self.global_target_mean, inplace=True) # Filling new values by global target mean\n",
    "\n",
    "        # LOO target encode each column\n",
    "        else:\n",
    "            for col in self.sum_count:\n",
    "                vals = np.full(X.shape[0], np.nan)\n",
    "                for cat, sum_count in self.sum_count[col].items():\n",
    "                    ix = X[col]==cat\n",
    "                    if sum_count[1] > 1:\n",
    "                        vals[ix] = ((sum_count[0]-y[ix].reshape(-1,))/(sum_count[1]-1)).round(2)\n",
    "                    else :\n",
    "                        vals[ix] = ((y.sum() - y[ix])/(X.shape[0] - 1)).round(2) # Catering to the case where a particular \n",
    "                                                                                 # category level occurs only once in the dataset\n",
    "                \n",
    "                Xo[col] = vals\n",
    "                Xo[col].fillna(self.global_target_mean, inplace=True) # Filling new values by global target mean\n",
    "        \n",
    "        \n",
    "        ## Return encoded DataFrame\n",
    "        return Xo\n",
    "    \n",
    "    \n",
    "    def fit_transform(self, X, y=None):\n",
    "        \"\"\"Fit and transform the data via label/one-hot/target encoding.\n",
    "        \n",
    "        Parameters\n",
    "        ----------\n",
    "        X : pandas DataFrame, shape [n_samples, n_columns]\n",
    "            DataFrame containing columns to encode\n",
    "        y : pandas Series, shape = [n_samples]\n",
    "            Target values (required!).\n",
    "\n",
    "        Returns\n",
    "        -------\n",
    "        pandas DataFrame\n",
    "            Input DataFrame with transformed columns\n",
    "        \"\"\"\n",
    "        \n",
    "        return self.fit(X, y).transform(X, y)\n",
    "    \n"
   ]
  },
  {
   "cell_type": "code",
   "execution_count": 21,
   "metadata": {
    "pycharm": {
     "name": "#%%\n"
    }
   },
   "outputs": [],
   "source": [
    "class AddFeatures(BaseEstimator):\n",
    "    \"\"\"\n",
    "    Add new, engineered features using original categorical and numerical features of the DataFrame\n",
    "    \"\"\"\n",
    "    \n",
    "    def __init__(self, eps = 1e-6):\n",
    "        \"\"\"\n",
    "        Parameters\n",
    "        ----------\n",
    "        eps : A small value to avoid divide by zero error. Default value is 0.000001\n",
    "        \"\"\"\n",
    "        \n",
    "        self.eps = eps\n",
    "    \n",
    "    \n",
    "    def fit(self, X, y=None):\n",
    "        return self\n",
    "    \n",
    "    \n",
    "    def transform(self, X):\n",
    "        \"\"\"\n",
    "        Parameters\n",
    "        ----------\n",
    "        X : pandas DataFrame, shape [n_samples, n_columns]\n",
    "            DataFrame containing base columns using which new interaction-based features can be engineered\n",
    "        \"\"\"\n",
    "        Xo = X.copy()\n",
    "        ## Add 4 new columns - bal_per_product, bal_by_est_salary, tenure_age_ratio, age_surname_mean_churn\n",
    "        Xo['bal_per_product'] = Xo.Balance/(Xo.NumOfProducts + self.eps)\n",
    "        Xo['bal_by_est_salary'] = Xo.Balance/(Xo.EstimatedSalary + self.eps)\n",
    "        Xo['tenure_age_ratio'] = Xo.Tenure/(Xo.Age + self.eps)\n",
    "        Xo['age_surname_enc'] = np.sqrt(Xo.Age) * Xo.Surname\n",
    "        \n",
    "        ## Returning the updated dataframe\n",
    "        return Xo\n",
    "    \n",
    "    \n",
    "    def fit_transform(self, X, y=None):\n",
    "        \"\"\"\n",
    "        Parameters\n",
    "        ----------\n",
    "        X : pandas DataFrame, shape [n_samples, n_columns]\n",
    "            DataFrame containing base columns using which new interaction-based features can be engineered\n",
    "        \"\"\"\n",
    "        return self.fit(X,y).transform(X)\n",
    "    \n",
    "    "
   ]
  },
  {
   "cell_type": "code",
   "execution_count": 22,
   "metadata": {
    "pycharm": {
     "name": "#%%\n"
    }
   },
   "outputs": [],
   "source": [
    "class CustomScaler(BaseEstimator, TransformerMixin):\n",
    "    \"\"\"\n",
    "    A custom standard scaler class with the ability to apply scaling on selected columns\n",
    "    \"\"\"\n",
    "    \n",
    "    def __init__(self, scale_cols = None):\n",
    "        \"\"\"\n",
    "        Parameters\n",
    "        ----------\n",
    "        scale_cols : list of str\n",
    "            Columns on which to perform scaling and normalization. Default is to scale all numerical columns\n",
    "        \n",
    "        \"\"\"\n",
    "        self.scale_cols = scale_cols\n",
    "    \n",
    "    \n",
    "    def fit(self, X, y=None):\n",
    "        \"\"\"\n",
    "        Parameters\n",
    "        ----------\n",
    "        X : pandas DataFrame, shape [n_samples, n_columns]\n",
    "            DataFrame containing columns to scale\n",
    "        \"\"\"\n",
    "        \n",
    "        # Scaling all non-categorical columns if user doesn't provide the list of columns to scale\n",
    "        if self.scale_cols is None:\n",
    "            self.scale_cols = [c for c in X if ((str(X[c].dtype).find('float') != -1) or (str(X[c].dtype).find('int') != -1))]\n",
    "        \n",
    "     \n",
    "        ## Create mapping corresponding to scaling and normalization\n",
    "        self.maps = dict()\n",
    "        for col in self.scale_cols:\n",
    "            self.maps[col] = dict()\n",
    "            self.maps[col]['mean'] = np.mean(X[col].values).round(2)\n",
    "            self.maps[col]['std_dev'] = np.std(X[col].values).round(2)\n",
    "        \n",
    "        # Return fit object\n",
    "        return self\n",
    "    \n",
    "    \n",
    "    def transform(self, X):\n",
    "        \"\"\"\n",
    "        Parameters\n",
    "        ----------\n",
    "        X : pandas DataFrame, shape [n_samples, n_columns]\n",
    "            DataFrame containing columns to scale\n",
    "        \"\"\"\n",
    "        Xo = X.copy()\n",
    "        \n",
    "        ## Map transformation to respective columns\n",
    "        for col in self.scale_cols:\n",
    "            Xo[col] = (Xo[col] - self.maps[col]['mean']) / self.maps[col]['std_dev']\n",
    "        \n",
    "        \n",
    "        # Return scaled and normalized DataFrame\n",
    "        return Xo\n",
    "    \n",
    "    \n",
    "    def fit_transform(self, X, y=None):\n",
    "        \"\"\"\n",
    "        Parameters\n",
    "        ----------\n",
    "        X : pandas DataFrame, shape [n_samples, n_columns]\n",
    "            DataFrame containing columns to scale\n",
    "        \"\"\"\n",
    "        # Fit and return transformed dataframe\n",
    "        return self.fit(X).transform(X)\n",
    "    \n",
    "    "
   ]
  },
  {
   "cell_type": "code",
   "execution_count": null,
   "metadata": {
    "pycharm": {
     "name": "#%%\n"
    }
   },
   "outputs": [],
   "source": []
  },
  {
   "cell_type": "code",
   "execution_count": null,
   "metadata": {
    "pycharm": {
     "name": "#%%\n"
    }
   },
   "outputs": [],
   "source": []
  },
  {
   "cell_type": "markdown",
   "metadata": {},
   "source": [
    "#### Pipeline for a single model"
   ]
  },
  {
   "cell_type": "code",
   "execution_count": 23,
   "metadata": {
    "pycharm": {
     "name": "#%%\n"
    }
   },
   "outputs": [],
   "source": [
    "from sklearn.pipeline import Pipeline\n",
    "from sklearn.tree import DecisionTreeClassifier\n",
    "\n",
    "## Importing relevant metrics\n",
    "from sklearn.metrics import roc_auc_score, f1_score, recall_score, confusion_matrix, classification_report"
   ]
  },
  {
   "cell_type": "code",
   "execution_count": 24,
   "metadata": {
    "pycharm": {
     "name": "#%%\n"
    }
   },
   "outputs": [],
   "source": [
    "X = df_train.drop(columns = ['Exited'], axis = 1)\n",
    "X_val = df_val.drop(columns = ['Exited'], axis = 1)\n",
    "\n",
    "cols_to_scale = ['CreditScore', 'Age', 'Balance', 'EstimatedSalary', 'bal_per_product', 'bal_by_est_salary', 'tenure_age_ratio'\n",
    "                ,'age_surname_enc']"
   ]
  },
  {
   "cell_type": "code",
   "execution_count": 25,
   "metadata": {
    "pycharm": {
     "name": "#%%\n"
    }
   },
   "outputs": [],
   "source": [
    "weights_dict = {0 : 1.0, 1 : 3.92}\n",
    "\n",
    "clf = DecisionTreeClassifier(criterion = 'entropy', class_weight = weights_dict, max_depth = 4, max_features = None\n",
    "                            , min_samples_split = 25, min_samples_leaf = 15)"
   ]
  },
  {
   "cell_type": "code",
   "execution_count": 26,
   "metadata": {
    "pycharm": {
     "name": "#%%\n"
    }
   },
   "outputs": [],
   "source": [
    "model = Pipeline(steps = [('categorical_encoding', CategoricalEncoder()),\n",
    "                          ('add_new_features', AddFeatures()),\n",
    "                          ('standard_scaling', CustomScaler(cols_to_scale)),\n",
    "                          ('classifier', clf)\n",
    "                         ])"
   ]
  },
  {
   "cell_type": "code",
   "execution_count": 27,
   "metadata": {
    "pycharm": {
     "name": "#%%\n"
    }
   },
   "outputs": [
    {
     "data": {
      "text/plain": [
       "Pipeline(steps=[('categorical_encoding',\n",
       "                 CategoricalEncoder(cols=['Surname', 'Geography', 'Gender'],\n",
       "                                    lcols=['Gender'], ohecols=['Geography'],\n",
       "                                    tcols=['Surname'])),\n",
       "                ('add_new_features', AddFeatures()),\n",
       "                ('standard_scaling',\n",
       "                 CustomScaler(scale_cols=['CreditScore', 'Age', 'Balance',\n",
       "                                          'EstimatedSalary', 'bal_per_product',\n",
       "                                          'bal_by_est_salary',\n",
       "                                          'tenure_age_ratio',\n",
       "                                          'age_surname_enc'])),\n",
       "                ('classifier',\n",
       "                 DecisionTreeClassifier(class_weight={0: 1.0, 1: 3.92},\n",
       "                                        criterion='entropy', max_depth=4,\n",
       "                                        min_samples_leaf=15,\n",
       "                                        min_samples_split=25))])"
      ]
     },
     "execution_count": 27,
     "metadata": {},
     "output_type": "execute_result"
    }
   ],
   "source": [
    "# Fit pipeline with training data\n",
    "model.fit(X,y_train)"
   ]
  },
  {
   "cell_type": "code",
   "execution_count": 28,
   "metadata": {
    "pycharm": {
     "name": "#%%\n"
    }
   },
   "outputs": [],
   "source": [
    "# Predict target values on val data\n",
    "val_preds = model.predict(X_val)"
   ]
  },
  {
   "cell_type": "code",
   "execution_count": 29,
   "metadata": {
    "pycharm": {
     "name": "#%%\n"
    }
   },
   "outputs": [
    {
     "data": {
      "text/plain": [
       "0.7477394758378411"
      ]
     },
     "execution_count": 29,
     "metadata": {},
     "output_type": "execute_result"
    },
    {
     "data": {
      "text/plain": [
       "0.7436974789915967"
      ]
     },
     "execution_count": 29,
     "metadata": {},
     "output_type": "execute_result"
    },
    {
     "data": {
      "text/plain": [
       "array([[633, 209],\n",
       "       [ 61, 177]])"
      ]
     },
     "execution_count": 29,
     "metadata": {},
     "output_type": "execute_result"
    },
    {
     "name": "stdout",
     "output_type": "stream",
     "text": [
      "              precision    recall  f1-score   support\n",
      "\n",
      "           0       0.91      0.75      0.82       842\n",
      "           1       0.46      0.74      0.57       238\n",
      "\n",
      "    accuracy                           0.75      1080\n",
      "   macro avg       0.69      0.75      0.70      1080\n",
      "weighted avg       0.81      0.75      0.77      1080\n",
      "\n"
     ]
    }
   ],
   "source": [
    "## Validation metrics\n",
    "roc_auc_score(y_val, val_preds)\n",
    "recall_score(y_val, val_preds)\n",
    "confusion_matrix(y_val, val_preds)\n",
    "print(classification_report(y_val, val_preds))"
   ]
  },
  {
   "cell_type": "code",
   "execution_count": null,
   "metadata": {
    "pycharm": {
     "name": "#%%\n"
    }
   },
   "outputs": [],
   "source": []
  },
  {
   "cell_type": "markdown",
   "metadata": {},
   "source": [
    "### Model Zoo and k-fold Cross Validation"
   ]
  },
  {
   "cell_type": "markdown",
   "metadata": {},
   "source": [
    "#### Models: \n",
    "- Random Forest\n",
    "- Light Gardient Bossted Machine\n",
    "- XGBoost\n",
    "- Naive Bayes (Gaussian/Multinomial)\n",
    "- kNN"
   ]
  },
  {
   "cell_type": "code",
   "execution_count": 30,
   "metadata": {
    "pycharm": {
     "name": "#%%\n"
    }
   },
   "outputs": [],
   "source": [
    "from sklearn.model_selection import cross_val_score"
   ]
  },
  {
   "cell_type": "code",
   "execution_count": 31,
   "metadata": {
    "pycharm": {
     "name": "#%%\n"
    }
   },
   "outputs": [
    {
     "data": {
      "text/plain": [
       "3.93"
      ]
     },
     "execution_count": 31,
     "metadata": {},
     "output_type": "execute_result"
    }
   ],
   "source": [
    "## Preparing data and a few common model parameters\n",
    "X = df_train.drop(columns = ['Exited'], axis = 1)\n",
    "y = y_train.ravel()\n",
    "\n",
    "weights_dict = {0 : 1.0, 1 : 3.93}\n",
    "_, num_samples = np.unique(y_train, return_counts = True)\n",
    "weight = (num_samples[0]/num_samples[1]).round(2)\n",
    "weight\n",
    "\n",
    "cols_to_scale = ['CreditScore', 'Age', 'Balance', 'EstimatedSalary', 'bal_per_product', 'bal_by_est_salary', 'tenure_age_ratio'\n",
    "                ,'age_surname_enc']"
   ]
  },
  {
   "cell_type": "code",
   "execution_count": 32,
   "metadata": {
    "pycharm": {
     "name": "#%%\n"
    }
   },
   "outputs": [],
   "source": [
    "## Importing the models to be tried out\n",
    "from sklearn.ensemble import RandomForestClassifier, ExtraTreesClassifier\n",
    "from lightgbm import LGBMClassifier\n",
    "from xgboost import XGBClassifier\n",
    "from sklearn.neighbors import KNeighborsClassifier\n",
    "from sklearn.naive_bayes import GaussianNB, MultinomialNB, ComplementNB, BernoulliNB"
   ]
  },
  {
   "cell_type": "code",
   "execution_count": 33,
   "metadata": {
    "pycharm": {
     "name": "#%%\n"
    }
   },
   "outputs": [],
   "source": [
    "## Preparing a list of models to try out in the spot-checking process\n",
    "def model_zoo(models = dict()):\n",
    "    # Tree models\n",
    "    for n_trees in [21, 1001]:\n",
    "        models['rf_' + str(n_trees)] = RandomForestClassifier(n_estimators = n_trees, n_jobs = -1, criterion = 'entropy'\n",
    "                                                              , class_weight = weights_dict, max_depth = 6, max_features = 0.6\n",
    "                                                              , min_samples_split = 30, min_samples_leaf = 20)\n",
    "        \n",
    "        models['lgb_' + str(n_trees)] = LGBMClassifier(boosting_type='dart', num_leaves=31, max_depth= 6, learning_rate=0.1\n",
    "                                                       , n_estimators=n_trees, class_weight=weights_dict, min_child_samples=20\n",
    "                                                       , colsample_bytree=0.6, reg_alpha=0.3, reg_lambda=1.0, n_jobs=- 1\n",
    "                                                       , importance_type = 'gain')\n",
    "        \n",
    "        models['xgb_' + str(n_trees)] = XGBClassifier(objective='binary:logistic', n_estimators = n_trees, max_depth = 6\n",
    "                                                      , learning_rate = 0.03, n_jobs = -1, colsample_bytree = 0.6\n",
    "                                                      , reg_alpha = 0.3, reg_lambda = 0.1, scale_pos_weight = weight)\n",
    "        \n",
    "        models['et_' + str(n_trees)] = ExtraTreesClassifier(n_estimators=n_trees, criterion = 'entropy', max_depth = 6\n",
    "                                                            , max_features = 0.6, n_jobs = -1, class_weight = weights_dict\n",
    "                                                            , min_samples_split = 30, min_samples_leaf = 20)\n",
    "    \n",
    "    # kNN models\n",
    "    for n in [3,5,11]:\n",
    "        models['knn_' + str(n)] = KNeighborsClassifier(n_neighbors=n)\n",
    "    \n",
    "    # Naive-Bayes models\n",
    "    models['gauss_nb'] = GaussianNB()\n",
    "    models['multi_nb'] = MultinomialNB()\n",
    "    models['compl_nb'] = ComplementNB()\n",
    "    models['bern_nb'] = BernoulliNB()\n",
    "    \n",
    "    return models"
   ]
  },
  {
   "cell_type": "code",
   "execution_count": 34,
   "metadata": {
    "pycharm": {
     "name": "#%%\n"
    }
   },
   "outputs": [],
   "source": [
    "## Automation of data preparation and model run through pipelines\n",
    "def make_pipeline(model):\n",
    "    '''\n",
    "    Creates pipeline for the model passed as the argument. Uses standard scaling only in case of kNN models. \n",
    "    Ignores scaling step for tree/Naive Bayes models\n",
    "    '''\n",
    "    \n",
    "    if (str(model).find('KNeighborsClassifier') != -1):\n",
    "        pipe =  Pipeline(steps = [('categorical_encoding', CategoricalEncoder()),\n",
    "                              ('add_new_features', AddFeatures()),\n",
    "                              ('standard_scaling', CustomScaler(cols_to_scale)),\n",
    "                              ('classifier', model)\n",
    "                             ])\n",
    "    else :\n",
    "        pipe =  Pipeline(steps = [('categorical_encoding', CategoricalEncoder()),\n",
    "                              ('add_new_features', AddFeatures()),\n",
    "                              ('classifier', model)\n",
    "                             ])\n",
    "    \n",
    "    \n",
    "    return pipe\n"
   ]
  },
  {
   "cell_type": "code",
   "execution_count": 35,
   "metadata": {
    "pycharm": {
     "name": "#%%\n"
    }
   },
   "outputs": [],
   "source": [
    "## Run/Evaluate all 15 models using KFold cross-validation (5 folds)\n",
    "def evaluate_models(X, y, models, folds = 5, metric = 'recall'):\n",
    "    results = dict()\n",
    "    for name, model in models.items():\n",
    "        # Evaluate model through automated pipelines\n",
    "        pipeline = make_pipeline(model)\n",
    "        scores = cross_val_score(pipeline, X, y, cv = folds, scoring = metric, n_jobs = -1)\n",
    "        \n",
    "        # Store results of the evaluated model\n",
    "        results[name] = scores\n",
    "        mu, sigma = np.mean(scores), np.std(scores)\n",
    "        # Printing individual model results\n",
    "        print('Model {}: mean = {}, std_dev = {}'.format(name, mu, sigma))\n",
    "    \n",
    "    return results\n",
    "        "
   ]
  },
  {
   "cell_type": "code",
   "execution_count": 36,
   "metadata": {
    "pycharm": {
     "name": "#%%\n"
    }
   },
   "outputs": [
    {
     "name": "stdout",
     "output_type": "stream",
     "text": [
      "Recall metric\n",
      "Model rf_21: mean = 0.7418954741587818, std_dev = 0.01798484587091027\n",
      "Model lgb_21: mean = 0.7462529749811342, std_dev = 0.021451811890045795\n",
      "Model xgb_21: mean = 0.7195197461349432, std_dev = 0.014505096894315908\n",
      "Model et_21: mean = 0.7419109537354153, std_dev = 0.009736050358715055\n",
      "Model rf_1001: mean = 0.7356804241403998, std_dev = 0.018676988453970915\n",
      "Model lgb_1001: mean = 0.6262340124997581, std_dev = 0.02347185271419394\n",
      "Model xgb_1001: mean = 0.6119424933728063, std_dev = 0.018764636123694133\n",
      "Model et_1001: mean = 0.7344536676921887, std_dev = 0.0063509714842492\n",
      "Model knn_3: mean = 0.3308391865482479, std_dev = 0.0257896061929066\n",
      "Model knn_5: mean = 0.30969795476093726, std_dev = 0.01633554361744493\n",
      "Model knn_11: mean = 0.2506143456976452, std_dev = 0.007246171430455652\n",
      "Model gauss_nb: mean = 0.03484646194926569, std_dev = 0.015468568191425867\n",
      "Model multi_nb: mean = 0.5404191095373541, std_dev = 0.022285871235774777\n",
      "Model compl_nb: mean = 0.5404191095373541, std_dev = 0.022285871235774777\n",
      "Model bern_nb: mean = 0.3065730152280335, std_dev = 0.022710670132026465\n",
      "F1-score metric\n",
      "Model rf_21: mean = 0.595989706843773, std_dev = 0.011172266552177349\n",
      "Model lgb_21: mean = 0.592902890094053, std_dev = 0.009161633119074164\n",
      "Model xgb_21: mean = 0.5934972815402477, std_dev = 0.011749960407980918\n",
      "Model et_21: mean = 0.5939741928093504, std_dev = 0.01240821758985249\n",
      "Model rf_1001: mean = 0.598288532830636, std_dev = 0.010642874533655351\n",
      "Model lgb_1001: mean = 0.6070393974343331, std_dev = 0.01765690955763956\n",
      "Model xgb_1001: mean = 0.6128919442025468, std_dev = 0.01737769390792077\n",
      "Model et_1001: mean = 0.589777381107017, std_dev = 0.008067374123763446\n",
      "Model knn_3: mean = 0.42030087566989466, std_dev = 0.030417310581367648\n",
      "Model knn_5: mean = 0.4128174354549231, std_dev = 0.017946203515732076\n",
      "Model knn_11: mean = 0.3681743479512917, std_dev = 0.007513684261704708\n",
      "Model gauss_nb: mean = 0.061320836385407564, std_dev = 0.025280231091869543\n",
      "Model multi_nb: mean = 0.329272413622277, std_dev = 0.011346796699221388\n",
      "Model compl_nb: mean = 0.329272413622277, std_dev = 0.011346796699221388\n",
      "Model bern_nb: mean = 0.33971572128030253, std_dev = 0.016707761800150957\n"
     ]
    }
   ],
   "source": [
    "## Spot-checking in action\n",
    "models = model_zoo()\n",
    "print('Recall metric')\n",
    "results = evaluate_models(X, y , models, metric = 'recall')\n",
    "print('F1-score metric')\n",
    "results = evaluate_models(X, y , models, metric = 'f1')"
   ]
  },
  {
   "cell_type": "markdown",
   "metadata": {},
   "source": [
    "\n",
    "LightGBM is chosen for further hyperparameter tuning because it has the best performance on recall metric, and it has the second best F1-score"
   ]
  },
  {
   "cell_type": "code",
   "execution_count": null,
   "metadata": {
    "pycharm": {
     "name": "#%%\n"
    }
   },
   "outputs": [],
   "source": []
  },
  {
   "cell_type": "code",
   "execution_count": null,
   "metadata": {
    "pycharm": {
     "name": "#%%\n"
    }
   },
   "outputs": [],
   "source": []
  },
  {
   "cell_type": "markdown",
   "metadata": {},
   "source": [
    "### Hyperparameter tuning"
   ]
  },
  {
   "cell_type": "code",
   "execution_count": 37,
   "metadata": {
    "pycharm": {
     "name": "#%%\n"
    }
   },
   "outputs": [],
   "source": [
    "from sklearn.pipeline import Pipeline\n",
    "from sklearn.model_selection import GridSearchCV, RandomizedSearchCV\n",
    "from lightgbm import LGBMClassifier"
   ]
  },
  {
   "cell_type": "code",
   "execution_count": 38,
   "metadata": {
    "pycharm": {
     "name": "#%%\n"
    }
   },
   "outputs": [
    {
     "data": {
      "text/plain": [
       "((7920, 11), (7920,))"
      ]
     },
     "execution_count": 38,
     "metadata": {},
     "output_type": "execute_result"
    },
    {
     "data": {
      "text/plain": [
       "((1080, 11), (1080,))"
      ]
     },
     "execution_count": 38,
     "metadata": {},
     "output_type": "execute_result"
    }
   ],
   "source": [
    "## Preparing data and a few common model parameters\n",
    "# Unscaled features will be used since it's a tree model\n",
    "\n",
    "X_train = df_train.drop(columns = ['Exited'], axis = 1)\n",
    "X_val = df_val.drop(columns = ['Exited'], axis = 1)\n",
    "\n",
    "X_train.shape, y_train.shape\n",
    "X_val.shape, y_val.shape"
   ]
  },
  {
   "cell_type": "code",
   "execution_count": 39,
   "metadata": {
    "pycharm": {
     "name": "#%%\n"
    }
   },
   "outputs": [],
   "source": [
    "lgb = LGBMClassifier(boosting_type = 'dart', min_child_samples = 20, n_jobs = - 1, importance_type = 'gain', num_leaves = 31)"
   ]
  },
  {
   "cell_type": "code",
   "execution_count": 40,
   "metadata": {
    "pycharm": {
     "name": "#%%\n"
    }
   },
   "outputs": [],
   "source": [
    "model = Pipeline(steps = [('categorical_encoding', CategoricalEncoder()),\n",
    "                          ('add_new_features', AddFeatures()),\n",
    "                          ('classifier', lgb)\n",
    "                         ])"
   ]
  },
  {
   "cell_type": "markdown",
   "metadata": {},
   "source": [
    "#### Randomized Search"
   ]
  },
  {
   "cell_type": "code",
   "execution_count": 41,
   "metadata": {
    "pycharm": {
     "name": "#%%\n"
    }
   },
   "outputs": [],
   "source": [
    "# Parameters\n",
    "parameters = {'classifier__n_estimators':[10, 21, 51, 100, 201, 350, 501]\n",
    "             ,'classifier__max_depth': [3, 4, 6, 9]\n",
    "             ,'classifier__num_leaves':[7, 15, 31] \n",
    "             ,'classifier__learning_rate': [0.03, 0.05, 0.1, 0.5, 1]\n",
    "             ,'classifier__colsample_bytree': [0.3, 0.6, 0.8]\n",
    "             ,'classifier__reg_alpha': [0, 0.3, 1, 5]\n",
    "             ,'classifier__reg_lambda': [0.1, 0.5, 1, 5, 10]\n",
    "             ,'classifier__class_weight': [{0:1,1:1.0}, {0:1,1:1.96}, {0:1,1:3.0}, {0:1,1:3.93}]\n",
    "             }"
   ]
  },
  {
   "cell_type": "code",
   "execution_count": 42,
   "metadata": {
    "pycharm": {
     "name": "#%%\n"
    }
   },
   "outputs": [],
   "source": [
    "search = RandomizedSearchCV(model, parameters, n_iter = 20, cv = 5, scoring = 'f1')"
   ]
  },
  {
   "cell_type": "code",
   "execution_count": 43,
   "metadata": {
    "pycharm": {
     "name": "#%%\n"
    }
   },
   "outputs": [
    {
     "name": "stdout",
     "output_type": "stream",
     "text": [
      "[LightGBM] [Warning] Accuracy may be bad since you didn't set num_leaves and 2^max_depth > num_leaves\n",
      "[LightGBM] [Warning] Accuracy may be bad since you didn't set num_leaves and 2^max_depth > num_leaves\n",
      "[LightGBM] [Warning] Accuracy may be bad since you didn't set num_leaves and 2^max_depth > num_leaves\n",
      "[LightGBM] [Warning] Accuracy may be bad since you didn't set num_leaves and 2^max_depth > num_leaves\n",
      "[LightGBM] [Warning] Accuracy may be bad since you didn't set num_leaves and 2^max_depth > num_leaves\n",
      "[LightGBM] [Warning] Accuracy may be bad since you didn't set num_leaves and 2^max_depth > num_leaves\n",
      "[LightGBM] [Warning] Accuracy may be bad since you didn't set num_leaves and 2^max_depth > num_leaves\n",
      "[LightGBM] [Warning] Accuracy may be bad since you didn't set num_leaves and 2^max_depth > num_leaves\n",
      "[LightGBM] [Warning] Accuracy may be bad since you didn't set num_leaves and 2^max_depth > num_leaves\n",
      "[LightGBM] [Warning] Accuracy may be bad since you didn't set num_leaves and 2^max_depth > num_leaves\n"
     ]
    },
    {
     "data": {
      "text/plain": [
       "RandomizedSearchCV(cv=5,\n",
       "                   estimator=Pipeline(steps=[('categorical_encoding',\n",
       "                                              CategoricalEncoder()),\n",
       "                                             ('add_new_features',\n",
       "                                              AddFeatures()),\n",
       "                                             ('classifier',\n",
       "                                              LGBMClassifier(boosting_type='dart',\n",
       "                                                             importance_type='gain'))]),\n",
       "                   n_iter=20,\n",
       "                   param_distributions={'classifier__class_weight': [{0: 1,\n",
       "                                                                      1: 1.0},\n",
       "                                                                     {0: 1,\n",
       "                                                                      1: 1.96},\n",
       "                                                                     {0: 1,\n",
       "                                                                      1: 3.0},\n",
       "                                                                     {0: 1,\n",
       "                                                                      1: 3.93}],\n",
       "                                        'classifier__colsample_bytree': [0.3,\n",
       "                                                                         0.6,\n",
       "                                                                         0.8],\n",
       "                                        'classifier__learning_rate': [0.03,\n",
       "                                                                      0.05, 0.1,\n",
       "                                                                      0.5, 1],\n",
       "                                        'classifier__max_depth': [3, 4, 6, 9],\n",
       "                                        'classifier__n_estimators': [10, 21, 51,\n",
       "                                                                     100, 201,\n",
       "                                                                     350, 501],\n",
       "                                        'classifier__num_leaves': [7, 15, 31],\n",
       "                                        'classifier__reg_alpha': [0, 0.3, 1, 5],\n",
       "                                        'classifier__reg_lambda': [0.1, 0.5, 1,\n",
       "                                                                   5, 10]},\n",
       "                   scoring='f1')"
      ]
     },
     "execution_count": 43,
     "metadata": {},
     "output_type": "execute_result"
    }
   ],
   "source": [
    "search.fit(X_train, y_train.ravel())"
   ]
  },
  {
   "cell_type": "code",
   "execution_count": 44,
   "metadata": {
    "pycharm": {
     "name": "#%%\n"
    }
   },
   "outputs": [
    {
     "data": {
      "text/plain": [
       "{'classifier__reg_lambda': 0.1,\n",
       " 'classifier__reg_alpha': 0,\n",
       " 'classifier__num_leaves': 31,\n",
       " 'classifier__n_estimators': 501,\n",
       " 'classifier__max_depth': 3,\n",
       " 'classifier__learning_rate': 0.1,\n",
       " 'classifier__colsample_bytree': 0.8,\n",
       " 'classifier__class_weight': {0: 1, 1: 1.96}}"
      ]
     },
     "execution_count": 44,
     "metadata": {},
     "output_type": "execute_result"
    },
    {
     "data": {
      "text/plain": [
       "0.6253878121241038"
      ]
     },
     "execution_count": 44,
     "metadata": {},
     "output_type": "execute_result"
    }
   ],
   "source": [
    "search.best_params_\n",
    "search.best_score_"
   ]
  },
  {
   "cell_type": "code",
   "execution_count": 45,
   "metadata": {
    "pycharm": {
     "name": "#%%\n"
    }
   },
   "outputs": [
    {
     "data": {
      "text/plain": [
       "{'mean_fit_time': array([2.08193316, 1.99100361, 2.06978297, 2.09737086, 2.67868733,\n",
       "        2.15768538, 2.02263165, 2.12149863, 2.1250361 , 2.04323783,\n",
       "        2.73519707, 2.08970923, 2.07424064, 2.12578926, 2.69564662,\n",
       "        2.15392032, 3.15273929, 2.08543482, 2.57885199, 2.22143373]),\n",
       " 'std_fit_time': array([0.03930249, 0.07176973, 0.049432  , 0.04865532, 0.12491709,\n",
       "        0.05232948, 0.09432602, 0.07890353, 0.10906243, 0.05811275,\n",
       "        0.15073194, 0.06954715, 0.11516216, 0.05710052, 0.13127537,\n",
       "        0.08152674, 0.47054879, 0.12400368, 0.18853384, 0.21085371]),\n",
       " 'mean_score_time': array([0.38885541, 0.39071307, 0.38706522, 0.37740965, 0.38885322,\n",
       "        0.37968054, 0.39094687, 0.39544954, 0.38891487, 0.3851769 ,\n",
       "        0.40530839, 0.4002327 , 0.4057127 , 0.39064317, 0.38995614,\n",
       "        0.40766625, 0.46900086, 0.38240857, 0.41849179, 0.41464887]),\n",
       " 'std_score_time': array([0.01519452, 0.0314094 , 0.02041765, 0.01050009, 0.01215216,\n",
       "        0.00862114, 0.02096417, 0.01136373, 0.02678546, 0.02188743,\n",
       "        0.02713149, 0.01787902, 0.04096871, 0.01366104, 0.01338439,\n",
       "        0.03097408, 0.04971419, 0.01080135, 0.03270113, 0.0486638 ]),\n",
       " 'param_classifier__reg_lambda': masked_array(data=[5, 10, 1, 0.1, 5, 1, 0.1, 10, 5, 10, 0.1, 1, 1, 10,\n",
       "                    0.1, 0.5, 1, 10, 5, 1],\n",
       "              mask=[False, False, False, False, False, False, False, False,\n",
       "                    False, False, False, False, False, False, False, False,\n",
       "                    False, False, False, False],\n",
       "        fill_value='?',\n",
       "             dtype=object),\n",
       " 'param_classifier__reg_alpha': masked_array(data=[0, 0.3, 5, 1, 0, 0.3, 0, 5, 0.3, 5, 0, 0, 5, 0.3, 5,\n",
       "                    0.3, 5, 0.3, 5, 0],\n",
       "              mask=[False, False, False, False, False, False, False, False,\n",
       "                    False, False, False, False, False, False, False, False,\n",
       "                    False, False, False, False],\n",
       "        fill_value='?',\n",
       "             dtype=object),\n",
       " 'param_classifier__num_leaves': masked_array(data=[31, 7, 31, 31, 31, 15, 31, 31, 7, 15, 31, 7, 15, 31,\n",
       "                    31, 31, 7, 15, 7, 15],\n",
       "              mask=[False, False, False, False, False, False, False, False,\n",
       "                    False, False, False, False, False, False, False, False,\n",
       "                    False, False, False, False],\n",
       "        fill_value='?',\n",
       "             dtype=object),\n",
       " 'param_classifier__n_estimators': masked_array(data=[100, 21, 100, 10, 501, 51, 10, 100, 51, 10, 501, 10,\n",
       "                    51, 100, 501, 10, 501, 21, 350, 21],\n",
       "              mask=[False, False, False, False, False, False, False, False,\n",
       "                    False, False, False, False, False, False, False, False,\n",
       "                    False, False, False, False],\n",
       "        fill_value='?',\n",
       "             dtype=object),\n",
       " 'param_classifier__max_depth': masked_array(data=[4, 9, 3, 4, 3, 4, 4, 6, 6, 6, 3, 6, 6, 6, 3, 3, 4, 4,\n",
       "                    4, 3],\n",
       "              mask=[False, False, False, False, False, False, False, False,\n",
       "                    False, False, False, False, False, False, False, False,\n",
       "                    False, False, False, False],\n",
       "        fill_value='?',\n",
       "             dtype=object),\n",
       " 'param_classifier__learning_rate': masked_array(data=[1, 0.1, 0.5, 0.05, 0.5, 0.03, 1, 0.1, 0.1, 0.03, 0.1,\n",
       "                    0.5, 0.5, 0.05, 0.5, 0.03, 0.03, 0.05, 0.05, 0.5],\n",
       "              mask=[False, False, False, False, False, False, False, False,\n",
       "                    False, False, False, False, False, False, False, False,\n",
       "                    False, False, False, False],\n",
       "        fill_value='?',\n",
       "             dtype=object),\n",
       " 'param_classifier__colsample_bytree': masked_array(data=[0.8, 0.8, 0.8, 0.8, 0.6, 0.6, 0.3, 0.6, 0.6, 0.8, 0.8,\n",
       "                    0.6, 0.3, 0.3, 0.6, 0.6, 0.6, 0.8, 0.6, 0.8],\n",
       "              mask=[False, False, False, False, False, False, False, False,\n",
       "                    False, False, False, False, False, False, False, False,\n",
       "                    False, False, False, False],\n",
       "        fill_value='?',\n",
       "             dtype=object),\n",
       " 'param_classifier__class_weight': masked_array(data=[{0: 1, 1: 1.96}, {0: 1, 1: 1.96}, {0: 1, 1: 3.0},\n",
       "                    {0: 1, 1: 3.0}, {0: 1, 1: 1.96}, {0: 1, 1: 3.0},\n",
       "                    {0: 1, 1: 3.93}, {0: 1, 1: 3.93}, {0: 1, 1: 1.0},\n",
       "                    {0: 1, 1: 3.0}, {0: 1, 1: 1.96}, {0: 1, 1: 3.0},\n",
       "                    {0: 1, 1: 1.96}, {0: 1, 1: 1.96}, {0: 1, 1: 1.0},\n",
       "                    {0: 1, 1: 1.0}, {0: 1, 1: 3.93}, {0: 1, 1: 3.93},\n",
       "                    {0: 1, 1: 1.96}, {0: 1, 1: 3.0}],\n",
       "              mask=[False, False, False, False, False, False, False, False,\n",
       "                    False, False, False, False, False, False, False, False,\n",
       "                    False, False, False, False],\n",
       "        fill_value='?',\n",
       "             dtype=object),\n",
       " 'params': [{'classifier__reg_lambda': 5,\n",
       "   'classifier__reg_alpha': 0,\n",
       "   'classifier__num_leaves': 31,\n",
       "   'classifier__n_estimators': 100,\n",
       "   'classifier__max_depth': 4,\n",
       "   'classifier__learning_rate': 1,\n",
       "   'classifier__colsample_bytree': 0.8,\n",
       "   'classifier__class_weight': {0: 1, 1: 1.96}},\n",
       "  {'classifier__reg_lambda': 10,\n",
       "   'classifier__reg_alpha': 0.3,\n",
       "   'classifier__num_leaves': 7,\n",
       "   'classifier__n_estimators': 21,\n",
       "   'classifier__max_depth': 9,\n",
       "   'classifier__learning_rate': 0.1,\n",
       "   'classifier__colsample_bytree': 0.8,\n",
       "   'classifier__class_weight': {0: 1, 1: 1.96}},\n",
       "  {'classifier__reg_lambda': 1,\n",
       "   'classifier__reg_alpha': 5,\n",
       "   'classifier__num_leaves': 31,\n",
       "   'classifier__n_estimators': 100,\n",
       "   'classifier__max_depth': 3,\n",
       "   'classifier__learning_rate': 0.5,\n",
       "   'classifier__colsample_bytree': 0.8,\n",
       "   'classifier__class_weight': {0: 1, 1: 3.0}},\n",
       "  {'classifier__reg_lambda': 0.1,\n",
       "   'classifier__reg_alpha': 1,\n",
       "   'classifier__num_leaves': 31,\n",
       "   'classifier__n_estimators': 10,\n",
       "   'classifier__max_depth': 4,\n",
       "   'classifier__learning_rate': 0.05,\n",
       "   'classifier__colsample_bytree': 0.8,\n",
       "   'classifier__class_weight': {0: 1, 1: 3.0}},\n",
       "  {'classifier__reg_lambda': 5,\n",
       "   'classifier__reg_alpha': 0,\n",
       "   'classifier__num_leaves': 31,\n",
       "   'classifier__n_estimators': 501,\n",
       "   'classifier__max_depth': 3,\n",
       "   'classifier__learning_rate': 0.5,\n",
       "   'classifier__colsample_bytree': 0.6,\n",
       "   'classifier__class_weight': {0: 1, 1: 1.96}},\n",
       "  {'classifier__reg_lambda': 1,\n",
       "   'classifier__reg_alpha': 0.3,\n",
       "   'classifier__num_leaves': 15,\n",
       "   'classifier__n_estimators': 51,\n",
       "   'classifier__max_depth': 4,\n",
       "   'classifier__learning_rate': 0.03,\n",
       "   'classifier__colsample_bytree': 0.6,\n",
       "   'classifier__class_weight': {0: 1, 1: 3.0}},\n",
       "  {'classifier__reg_lambda': 0.1,\n",
       "   'classifier__reg_alpha': 0,\n",
       "   'classifier__num_leaves': 31,\n",
       "   'classifier__n_estimators': 10,\n",
       "   'classifier__max_depth': 4,\n",
       "   'classifier__learning_rate': 1,\n",
       "   'classifier__colsample_bytree': 0.3,\n",
       "   'classifier__class_weight': {0: 1, 1: 3.93}},\n",
       "  {'classifier__reg_lambda': 10,\n",
       "   'classifier__reg_alpha': 5,\n",
       "   'classifier__num_leaves': 31,\n",
       "   'classifier__n_estimators': 100,\n",
       "   'classifier__max_depth': 6,\n",
       "   'classifier__learning_rate': 0.1,\n",
       "   'classifier__colsample_bytree': 0.6,\n",
       "   'classifier__class_weight': {0: 1, 1: 3.93}},\n",
       "  {'classifier__reg_lambda': 5,\n",
       "   'classifier__reg_alpha': 0.3,\n",
       "   'classifier__num_leaves': 7,\n",
       "   'classifier__n_estimators': 51,\n",
       "   'classifier__max_depth': 6,\n",
       "   'classifier__learning_rate': 0.1,\n",
       "   'classifier__colsample_bytree': 0.6,\n",
       "   'classifier__class_weight': {0: 1, 1: 1.0}},\n",
       "  {'classifier__reg_lambda': 10,\n",
       "   'classifier__reg_alpha': 5,\n",
       "   'classifier__num_leaves': 15,\n",
       "   'classifier__n_estimators': 10,\n",
       "   'classifier__max_depth': 6,\n",
       "   'classifier__learning_rate': 0.03,\n",
       "   'classifier__colsample_bytree': 0.8,\n",
       "   'classifier__class_weight': {0: 1, 1: 3.0}},\n",
       "  {'classifier__reg_lambda': 0.1,\n",
       "   'classifier__reg_alpha': 0,\n",
       "   'classifier__num_leaves': 31,\n",
       "   'classifier__n_estimators': 501,\n",
       "   'classifier__max_depth': 3,\n",
       "   'classifier__learning_rate': 0.1,\n",
       "   'classifier__colsample_bytree': 0.8,\n",
       "   'classifier__class_weight': {0: 1, 1: 1.96}},\n",
       "  {'classifier__reg_lambda': 1,\n",
       "   'classifier__reg_alpha': 0,\n",
       "   'classifier__num_leaves': 7,\n",
       "   'classifier__n_estimators': 10,\n",
       "   'classifier__max_depth': 6,\n",
       "   'classifier__learning_rate': 0.5,\n",
       "   'classifier__colsample_bytree': 0.6,\n",
       "   'classifier__class_weight': {0: 1, 1: 3.0}},\n",
       "  {'classifier__reg_lambda': 1,\n",
       "   'classifier__reg_alpha': 5,\n",
       "   'classifier__num_leaves': 15,\n",
       "   'classifier__n_estimators': 51,\n",
       "   'classifier__max_depth': 6,\n",
       "   'classifier__learning_rate': 0.5,\n",
       "   'classifier__colsample_bytree': 0.3,\n",
       "   'classifier__class_weight': {0: 1, 1: 1.96}},\n",
       "  {'classifier__reg_lambda': 10,\n",
       "   'classifier__reg_alpha': 0.3,\n",
       "   'classifier__num_leaves': 31,\n",
       "   'classifier__n_estimators': 100,\n",
       "   'classifier__max_depth': 6,\n",
       "   'classifier__learning_rate': 0.05,\n",
       "   'classifier__colsample_bytree': 0.3,\n",
       "   'classifier__class_weight': {0: 1, 1: 1.96}},\n",
       "  {'classifier__reg_lambda': 0.1,\n",
       "   'classifier__reg_alpha': 5,\n",
       "   'classifier__num_leaves': 31,\n",
       "   'classifier__n_estimators': 501,\n",
       "   'classifier__max_depth': 3,\n",
       "   'classifier__learning_rate': 0.5,\n",
       "   'classifier__colsample_bytree': 0.6,\n",
       "   'classifier__class_weight': {0: 1, 1: 1.0}},\n",
       "  {'classifier__reg_lambda': 0.5,\n",
       "   'classifier__reg_alpha': 0.3,\n",
       "   'classifier__num_leaves': 31,\n",
       "   'classifier__n_estimators': 10,\n",
       "   'classifier__max_depth': 3,\n",
       "   'classifier__learning_rate': 0.03,\n",
       "   'classifier__colsample_bytree': 0.6,\n",
       "   'classifier__class_weight': {0: 1, 1: 1.0}},\n",
       "  {'classifier__reg_lambda': 1,\n",
       "   'classifier__reg_alpha': 5,\n",
       "   'classifier__num_leaves': 7,\n",
       "   'classifier__n_estimators': 501,\n",
       "   'classifier__max_depth': 4,\n",
       "   'classifier__learning_rate': 0.03,\n",
       "   'classifier__colsample_bytree': 0.6,\n",
       "   'classifier__class_weight': {0: 1, 1: 3.93}},\n",
       "  {'classifier__reg_lambda': 10,\n",
       "   'classifier__reg_alpha': 0.3,\n",
       "   'classifier__num_leaves': 15,\n",
       "   'classifier__n_estimators': 21,\n",
       "   'classifier__max_depth': 4,\n",
       "   'classifier__learning_rate': 0.05,\n",
       "   'classifier__colsample_bytree': 0.8,\n",
       "   'classifier__class_weight': {0: 1, 1: 3.93}},\n",
       "  {'classifier__reg_lambda': 5,\n",
       "   'classifier__reg_alpha': 5,\n",
       "   'classifier__num_leaves': 7,\n",
       "   'classifier__n_estimators': 350,\n",
       "   'classifier__max_depth': 4,\n",
       "   'classifier__learning_rate': 0.05,\n",
       "   'classifier__colsample_bytree': 0.6,\n",
       "   'classifier__class_weight': {0: 1, 1: 1.96}},\n",
       "  {'classifier__reg_lambda': 1,\n",
       "   'classifier__reg_alpha': 0,\n",
       "   'classifier__num_leaves': 15,\n",
       "   'classifier__n_estimators': 21,\n",
       "   'classifier__max_depth': 3,\n",
       "   'classifier__learning_rate': 0.5,\n",
       "   'classifier__colsample_bytree': 0.8,\n",
       "   'classifier__class_weight': {0: 1, 1: 3.0}}],\n",
       " 'split0_test_score': array([0.59259259, 0.60530973, 0.60537482, 0.54644809, 0.60322581,\n",
       "        0.59580838, 0.57894737, 0.5883871 , 0.55737705, 0.50199203,\n",
       "        0.61437908, 0.59206799, 0.6092504 , 0.58287796, 0.56660413,\n",
       "        0.        , 0.58793325, 0.54975124, 0.61487603, 0.61230329]),\n",
       " 'split1_test_score': array([0.60530421, 0.62758621, 0.62586926, 0.55555556, 0.62838915,\n",
       "        0.61997019, 0.59165613, 0.61132075, 0.59009901, 0.53112033,\n",
       "        0.65378422, 0.63085399, 0.62480377, 0.64171123, 0.61682243,\n",
       "        0.        , 0.600246  , 0.59418458, 0.6557377 , 0.62203626]),\n",
       " 'split2_test_score': array([0.57007874, 0.57602862, 0.60055866, 0.57242583, 0.58012821,\n",
       "        0.58770615, 0.5631068 , 0.6068268 , 0.54065041, 0.51004016,\n",
       "        0.62229617, 0.61329715, 0.56730769, 0.56238361, 0.57142857,\n",
       "        0.        , 0.60148515, 0.58663366, 0.61435726, 0.60989011]),\n",
       " 'split3_test_score': array([0.6200318 , 0.60714286, 0.63701578, 0.59033989, 0.62258065,\n",
       "        0.63609467, 0.5875    , 0.61302682, 0.58333333, 0.55795678,\n",
       "        0.62876254, 0.6344239 , 0.64090177, 0.61510791, 0.61048689,\n",
       "        0.        , 0.60891089, 0.60228717, 0.62582781, 0.6424581 ]),\n",
       " 'split4_test_score': array([0.57627119, 0.56239016, 0.61752434, 0.53763441, 0.58588957,\n",
       "        0.59343795, 0.55272727, 0.60781841, 0.52988048, 0.48080808,\n",
       "        0.60771704, 0.60662252, 0.59224806, 0.5597148 , 0.56102004,\n",
       "        0.        , 0.60294118, 0.57881773, 0.60547504, 0.62348178]),\n",
       " 'mean_test_score': array([0.59285571, 0.59569152, 0.61726857, 0.56048075, 0.60404268,\n",
       "        0.60660347, 0.57478751, 0.60547598, 0.56026806, 0.51638348,\n",
       "        0.62538781, 0.61545311, 0.60690234, 0.5923591 , 0.58527241,\n",
       "        0.        , 0.60030329, 0.58233488, 0.62325477, 0.62203391]),\n",
       " 'std_test_score': array([0.01837069, 0.02339455, 0.01330167, 0.01885408, 0.01917557,\n",
       "        0.01841398, 0.01474147, 0.00883763, 0.02340302, 0.02630009,\n",
       "        0.01587924, 0.0156625 , 0.02555159, 0.03164558, 0.02349259,\n",
       "        0.        , 0.00686247, 0.0180613 , 0.01747712, 0.01150131]),\n",
       " 'rank_test_score': array([12, 11,  4, 17,  9,  7, 16,  8, 18, 19,  1,  5,  6, 13, 14, 20, 10,\n",
       "        15,  2,  3], dtype=int32)}"
      ]
     },
     "execution_count": 45,
     "metadata": {},
     "output_type": "execute_result"
    }
   ],
   "source": [
    "search.cv_results_"
   ]
  },
  {
   "cell_type": "code",
   "execution_count": null,
   "metadata": {
    "pycharm": {
     "name": "#%%\n"
    }
   },
   "outputs": [],
   "source": []
  },
  {
   "cell_type": "code",
   "execution_count": null,
   "metadata": {
    "pycharm": {
     "name": "#%%\n"
    }
   },
   "outputs": [],
   "source": []
  },
  {
   "cell_type": "markdown",
   "metadata": {},
   "source": [
    "#### Grid Search"
   ]
  },
  {
   "cell_type": "code",
   "execution_count": 46,
   "metadata": {
    "pycharm": {
     "name": "#%%\n"
    }
   },
   "outputs": [],
   "source": [
    "#list of parameters\n",
    "parameters = {'classifier__n_estimators':[201]\n",
    "             ,'classifier__max_depth': [6]\n",
    "             ,'classifier__num_leaves': [63]\n",
    "             ,'classifier__learning_rate': [0.1]\n",
    "             ,'classifier__colsample_bytree': [0.6, 0.8]\n",
    "             ,'classifier__reg_alpha': [0, 1, 10]\n",
    "             ,'classifier__reg_lambda': [0.1, 1, 5]\n",
    "             ,'classifier__class_weight': [{0:1,1:3.0}]\n",
    "             }"
   ]
  },
  {
   "cell_type": "code",
   "execution_count": 47,
   "metadata": {
    "pycharm": {
     "name": "#%%\n"
    }
   },
   "outputs": [],
   "source": [
    "grid = GridSearchCV(model, parameters, cv = 5, scoring = 'f1', n_jobs = -1)"
   ]
  },
  {
   "cell_type": "code",
   "execution_count": 48,
   "metadata": {
    "pycharm": {
     "name": "#%%\n"
    }
   },
   "outputs": [
    {
     "data": {
      "text/plain": [
       "GridSearchCV(cv=5,\n",
       "             estimator=Pipeline(steps=[('categorical_encoding',\n",
       "                                        CategoricalEncoder()),\n",
       "                                       ('add_new_features', AddFeatures()),\n",
       "                                       ('classifier',\n",
       "                                        LGBMClassifier(boosting_type='dart',\n",
       "                                                       importance_type='gain'))]),\n",
       "             n_jobs=-1,\n",
       "             param_grid={'classifier__class_weight': [{0: 1, 1: 3.0}],\n",
       "                         'classifier__colsample_bytree': [0.6, 0.8],\n",
       "                         'classifier__learning_rate': [0.1],\n",
       "                         'classifier__max_depth': [6],\n",
       "                         'classifier__n_estimators': [201],\n",
       "                         'classifier__num_leaves': [63],\n",
       "                         'classifier__reg_alpha': [0, 1, 10],\n",
       "                         'classifier__reg_lambda': [0.1, 1, 5]},\n",
       "             scoring='f1')"
      ]
     },
     "execution_count": 48,
     "metadata": {},
     "output_type": "execute_result"
    }
   ],
   "source": [
    "grid.fit(X_train, y_train.ravel())"
   ]
  },
  {
   "cell_type": "code",
   "execution_count": 49,
   "metadata": {
    "pycharm": {
     "name": "#%%\n"
    }
   },
   "outputs": [
    {
     "data": {
      "text/plain": [
       "{'classifier__class_weight': {0: 1, 1: 3.0},\n",
       " 'classifier__colsample_bytree': 0.8,\n",
       " 'classifier__learning_rate': 0.1,\n",
       " 'classifier__max_depth': 6,\n",
       " 'classifier__n_estimators': 201,\n",
       " 'classifier__num_leaves': 63,\n",
       " 'classifier__reg_alpha': 0,\n",
       " 'classifier__reg_lambda': 0.1}"
      ]
     },
     "execution_count": 49,
     "metadata": {},
     "output_type": "execute_result"
    },
    {
     "data": {
      "text/plain": [
       "0.6259056069494722"
      ]
     },
     "execution_count": 49,
     "metadata": {},
     "output_type": "execute_result"
    }
   ],
   "source": [
    "grid.best_params_\n",
    "grid.best_score_"
   ]
  },
  {
   "cell_type": "code",
   "execution_count": 50,
   "metadata": {
    "pycharm": {
     "name": "#%%\n"
    }
   },
   "outputs": [
    {
     "data": {
      "text/plain": [
       "{'mean_fit_time': array([5.2099813 , 5.25012941, 5.20435295, 5.2857688 , 5.33025122,\n",
       "        5.27810297, 5.2076376 , 5.5487504 , 5.6351769 , 5.92846165,\n",
       "        6.03670511, 6.27871461, 7.77477536, 7.94699302, 6.93385806,\n",
       "        6.74822917, 6.5483479 , 4.85989738]),\n",
       " 'std_fit_time': array([0.12286322, 0.04618009, 0.10291849, 0.16693165, 0.12830587,\n",
       "        0.10015764, 0.0720434 , 0.21579992, 0.1132886 , 0.0778764 ,\n",
       "        0.07166464, 0.18074924, 0.95680199, 0.82014141, 0.26838178,\n",
       "        0.08681724, 0.66386461, 0.30700408]),\n",
       " 'mean_score_time': array([0.70219841, 0.72798724, 0.7150363 , 0.74597888, 0.74039898,\n",
       "        0.70888743, 0.71384101, 0.72461734, 0.74158907, 0.81408916,\n",
       "        0.93657293, 1.09334278, 0.91129761, 0.93277011, 0.90291691,\n",
       "        0.97337155, 0.84384742, 0.49078498]),\n",
       " 'std_score_time': array([0.00526729, 0.02057822, 0.02198194, 0.02149089, 0.03657477,\n",
       "        0.0129825 , 0.01456085, 0.01647242, 0.02524016, 0.10128173,\n",
       "        0.02605983, 0.20637771, 0.02677914, 0.02626118, 0.02083105,\n",
       "        0.10371158, 0.10833395, 0.01781206]),\n",
       " 'param_classifier__class_weight': masked_array(data=[{0: 1, 1: 3.0}, {0: 1, 1: 3.0}, {0: 1, 1: 3.0},\n",
       "                    {0: 1, 1: 3.0}, {0: 1, 1: 3.0}, {0: 1, 1: 3.0},\n",
       "                    {0: 1, 1: 3.0}, {0: 1, 1: 3.0}, {0: 1, 1: 3.0},\n",
       "                    {0: 1, 1: 3.0}, {0: 1, 1: 3.0}, {0: 1, 1: 3.0},\n",
       "                    {0: 1, 1: 3.0}, {0: 1, 1: 3.0}, {0: 1, 1: 3.0},\n",
       "                    {0: 1, 1: 3.0}, {0: 1, 1: 3.0}, {0: 1, 1: 3.0}],\n",
       "              mask=[False, False, False, False, False, False, False, False,\n",
       "                    False, False, False, False, False, False, False, False,\n",
       "                    False, False],\n",
       "        fill_value='?',\n",
       "             dtype=object),\n",
       " 'param_classifier__colsample_bytree': masked_array(data=[0.6, 0.6, 0.6, 0.6, 0.6, 0.6, 0.6, 0.6, 0.6, 0.8, 0.8,\n",
       "                    0.8, 0.8, 0.8, 0.8, 0.8, 0.8, 0.8],\n",
       "              mask=[False, False, False, False, False, False, False, False,\n",
       "                    False, False, False, False, False, False, False, False,\n",
       "                    False, False],\n",
       "        fill_value='?',\n",
       "             dtype=object),\n",
       " 'param_classifier__learning_rate': masked_array(data=[0.1, 0.1, 0.1, 0.1, 0.1, 0.1, 0.1, 0.1, 0.1, 0.1, 0.1,\n",
       "                    0.1, 0.1, 0.1, 0.1, 0.1, 0.1, 0.1],\n",
       "              mask=[False, False, False, False, False, False, False, False,\n",
       "                    False, False, False, False, False, False, False, False,\n",
       "                    False, False],\n",
       "        fill_value='?',\n",
       "             dtype=object),\n",
       " 'param_classifier__max_depth': masked_array(data=[6, 6, 6, 6, 6, 6, 6, 6, 6, 6, 6, 6, 6, 6, 6, 6, 6, 6],\n",
       "              mask=[False, False, False, False, False, False, False, False,\n",
       "                    False, False, False, False, False, False, False, False,\n",
       "                    False, False],\n",
       "        fill_value='?',\n",
       "             dtype=object),\n",
       " 'param_classifier__n_estimators': masked_array(data=[201, 201, 201, 201, 201, 201, 201, 201, 201, 201, 201,\n",
       "                    201, 201, 201, 201, 201, 201, 201],\n",
       "              mask=[False, False, False, False, False, False, False, False,\n",
       "                    False, False, False, False, False, False, False, False,\n",
       "                    False, False],\n",
       "        fill_value='?',\n",
       "             dtype=object),\n",
       " 'param_classifier__num_leaves': masked_array(data=[63, 63, 63, 63, 63, 63, 63, 63, 63, 63, 63, 63, 63, 63,\n",
       "                    63, 63, 63, 63],\n",
       "              mask=[False, False, False, False, False, False, False, False,\n",
       "                    False, False, False, False, False, False, False, False,\n",
       "                    False, False],\n",
       "        fill_value='?',\n",
       "             dtype=object),\n",
       " 'param_classifier__reg_alpha': masked_array(data=[0, 0, 0, 1, 1, 1, 10, 10, 10, 0, 0, 0, 1, 1, 1, 10, 10,\n",
       "                    10],\n",
       "              mask=[False, False, False, False, False, False, False, False,\n",
       "                    False, False, False, False, False, False, False, False,\n",
       "                    False, False],\n",
       "        fill_value='?',\n",
       "             dtype=object),\n",
       " 'param_classifier__reg_lambda': masked_array(data=[0.1, 1, 5, 0.1, 1, 5, 0.1, 1, 5, 0.1, 1, 5, 0.1, 1, 5,\n",
       "                    0.1, 1, 5],\n",
       "              mask=[False, False, False, False, False, False, False, False,\n",
       "                    False, False, False, False, False, False, False, False,\n",
       "                    False, False],\n",
       "        fill_value='?',\n",
       "             dtype=object),\n",
       " 'params': [{'classifier__class_weight': {0: 1, 1: 3.0},\n",
       "   'classifier__colsample_bytree': 0.6,\n",
       "   'classifier__learning_rate': 0.1,\n",
       "   'classifier__max_depth': 6,\n",
       "   'classifier__n_estimators': 201,\n",
       "   'classifier__num_leaves': 63,\n",
       "   'classifier__reg_alpha': 0,\n",
       "   'classifier__reg_lambda': 0.1},\n",
       "  {'classifier__class_weight': {0: 1, 1: 3.0},\n",
       "   'classifier__colsample_bytree': 0.6,\n",
       "   'classifier__learning_rate': 0.1,\n",
       "   'classifier__max_depth': 6,\n",
       "   'classifier__n_estimators': 201,\n",
       "   'classifier__num_leaves': 63,\n",
       "   'classifier__reg_alpha': 0,\n",
       "   'classifier__reg_lambda': 1},\n",
       "  {'classifier__class_weight': {0: 1, 1: 3.0},\n",
       "   'classifier__colsample_bytree': 0.6,\n",
       "   'classifier__learning_rate': 0.1,\n",
       "   'classifier__max_depth': 6,\n",
       "   'classifier__n_estimators': 201,\n",
       "   'classifier__num_leaves': 63,\n",
       "   'classifier__reg_alpha': 0,\n",
       "   'classifier__reg_lambda': 5},\n",
       "  {'classifier__class_weight': {0: 1, 1: 3.0},\n",
       "   'classifier__colsample_bytree': 0.6,\n",
       "   'classifier__learning_rate': 0.1,\n",
       "   'classifier__max_depth': 6,\n",
       "   'classifier__n_estimators': 201,\n",
       "   'classifier__num_leaves': 63,\n",
       "   'classifier__reg_alpha': 1,\n",
       "   'classifier__reg_lambda': 0.1},\n",
       "  {'classifier__class_weight': {0: 1, 1: 3.0},\n",
       "   'classifier__colsample_bytree': 0.6,\n",
       "   'classifier__learning_rate': 0.1,\n",
       "   'classifier__max_depth': 6,\n",
       "   'classifier__n_estimators': 201,\n",
       "   'classifier__num_leaves': 63,\n",
       "   'classifier__reg_alpha': 1,\n",
       "   'classifier__reg_lambda': 1},\n",
       "  {'classifier__class_weight': {0: 1, 1: 3.0},\n",
       "   'classifier__colsample_bytree': 0.6,\n",
       "   'classifier__learning_rate': 0.1,\n",
       "   'classifier__max_depth': 6,\n",
       "   'classifier__n_estimators': 201,\n",
       "   'classifier__num_leaves': 63,\n",
       "   'classifier__reg_alpha': 1,\n",
       "   'classifier__reg_lambda': 5},\n",
       "  {'classifier__class_weight': {0: 1, 1: 3.0},\n",
       "   'classifier__colsample_bytree': 0.6,\n",
       "   'classifier__learning_rate': 0.1,\n",
       "   'classifier__max_depth': 6,\n",
       "   'classifier__n_estimators': 201,\n",
       "   'classifier__num_leaves': 63,\n",
       "   'classifier__reg_alpha': 10,\n",
       "   'classifier__reg_lambda': 0.1},\n",
       "  {'classifier__class_weight': {0: 1, 1: 3.0},\n",
       "   'classifier__colsample_bytree': 0.6,\n",
       "   'classifier__learning_rate': 0.1,\n",
       "   'classifier__max_depth': 6,\n",
       "   'classifier__n_estimators': 201,\n",
       "   'classifier__num_leaves': 63,\n",
       "   'classifier__reg_alpha': 10,\n",
       "   'classifier__reg_lambda': 1},\n",
       "  {'classifier__class_weight': {0: 1, 1: 3.0},\n",
       "   'classifier__colsample_bytree': 0.6,\n",
       "   'classifier__learning_rate': 0.1,\n",
       "   'classifier__max_depth': 6,\n",
       "   'classifier__n_estimators': 201,\n",
       "   'classifier__num_leaves': 63,\n",
       "   'classifier__reg_alpha': 10,\n",
       "   'classifier__reg_lambda': 5},\n",
       "  {'classifier__class_weight': {0: 1, 1: 3.0},\n",
       "   'classifier__colsample_bytree': 0.8,\n",
       "   'classifier__learning_rate': 0.1,\n",
       "   'classifier__max_depth': 6,\n",
       "   'classifier__n_estimators': 201,\n",
       "   'classifier__num_leaves': 63,\n",
       "   'classifier__reg_alpha': 0,\n",
       "   'classifier__reg_lambda': 0.1},\n",
       "  {'classifier__class_weight': {0: 1, 1: 3.0},\n",
       "   'classifier__colsample_bytree': 0.8,\n",
       "   'classifier__learning_rate': 0.1,\n",
       "   'classifier__max_depth': 6,\n",
       "   'classifier__n_estimators': 201,\n",
       "   'classifier__num_leaves': 63,\n",
       "   'classifier__reg_alpha': 0,\n",
       "   'classifier__reg_lambda': 1},\n",
       "  {'classifier__class_weight': {0: 1, 1: 3.0},\n",
       "   'classifier__colsample_bytree': 0.8,\n",
       "   'classifier__learning_rate': 0.1,\n",
       "   'classifier__max_depth': 6,\n",
       "   'classifier__n_estimators': 201,\n",
       "   'classifier__num_leaves': 63,\n",
       "   'classifier__reg_alpha': 0,\n",
       "   'classifier__reg_lambda': 5},\n",
       "  {'classifier__class_weight': {0: 1, 1: 3.0},\n",
       "   'classifier__colsample_bytree': 0.8,\n",
       "   'classifier__learning_rate': 0.1,\n",
       "   'classifier__max_depth': 6,\n",
       "   'classifier__n_estimators': 201,\n",
       "   'classifier__num_leaves': 63,\n",
       "   'classifier__reg_alpha': 1,\n",
       "   'classifier__reg_lambda': 0.1},\n",
       "  {'classifier__class_weight': {0: 1, 1: 3.0},\n",
       "   'classifier__colsample_bytree': 0.8,\n",
       "   'classifier__learning_rate': 0.1,\n",
       "   'classifier__max_depth': 6,\n",
       "   'classifier__n_estimators': 201,\n",
       "   'classifier__num_leaves': 63,\n",
       "   'classifier__reg_alpha': 1,\n",
       "   'classifier__reg_lambda': 1},\n",
       "  {'classifier__class_weight': {0: 1, 1: 3.0},\n",
       "   'classifier__colsample_bytree': 0.8,\n",
       "   'classifier__learning_rate': 0.1,\n",
       "   'classifier__max_depth': 6,\n",
       "   'classifier__n_estimators': 201,\n",
       "   'classifier__num_leaves': 63,\n",
       "   'classifier__reg_alpha': 1,\n",
       "   'classifier__reg_lambda': 5},\n",
       "  {'classifier__class_weight': {0: 1, 1: 3.0},\n",
       "   'classifier__colsample_bytree': 0.8,\n",
       "   'classifier__learning_rate': 0.1,\n",
       "   'classifier__max_depth': 6,\n",
       "   'classifier__n_estimators': 201,\n",
       "   'classifier__num_leaves': 63,\n",
       "   'classifier__reg_alpha': 10,\n",
       "   'classifier__reg_lambda': 0.1},\n",
       "  {'classifier__class_weight': {0: 1, 1: 3.0},\n",
       "   'classifier__colsample_bytree': 0.8,\n",
       "   'classifier__learning_rate': 0.1,\n",
       "   'classifier__max_depth': 6,\n",
       "   'classifier__n_estimators': 201,\n",
       "   'classifier__num_leaves': 63,\n",
       "   'classifier__reg_alpha': 10,\n",
       "   'classifier__reg_lambda': 1},\n",
       "  {'classifier__class_weight': {0: 1, 1: 3.0},\n",
       "   'classifier__colsample_bytree': 0.8,\n",
       "   'classifier__learning_rate': 0.1,\n",
       "   'classifier__max_depth': 6,\n",
       "   'classifier__n_estimators': 201,\n",
       "   'classifier__num_leaves': 63,\n",
       "   'classifier__reg_alpha': 10,\n",
       "   'classifier__reg_lambda': 5}],\n",
       " 'split0_test_score': array([0.60569715, 0.61052632, 0.61584454, 0.60830861, 0.61676647,\n",
       "        0.60895522, 0.61560694, 0.61383285, 0.61360347, 0.61515602,\n",
       "        0.61516035, 0.59882006, 0.6238806 , 0.60921248, 0.61380323,\n",
       "        0.60202605, 0.60869565, 0.60894661]),\n",
       " 'split1_test_score': array([0.63386397, 0.63649635, 0.62824207, 0.62481752, 0.63372093,\n",
       "        0.62914863, 0.61818182, 0.61452514, 0.62116992, 0.62882096,\n",
       "        0.62371889, 0.61911555, 0.62629247, 0.62119013, 0.62266858,\n",
       "        0.604782  , 0.60833333, 0.60689655]),\n",
       " 'split2_test_score': array([0.60059172, 0.61218425, 0.60882353, 0.6038864 , 0.61266568,\n",
       "        0.6084425 , 0.61714286, 0.61516452, 0.61538462, 0.61561119,\n",
       "        0.61176471, 0.60382916, 0.61403509, 0.60781476, 0.61538462,\n",
       "        0.60992908, 0.59520451, 0.60537482]),\n",
       " 'split3_test_score': array([0.63880597, 0.64307692, 0.64497041, 0.6406015 , 0.63842663,\n",
       "        0.64767616, 0.64      , 0.63884892, 0.63157895, 0.64145234,\n",
       "        0.63302752, 0.63378176, 0.64036419, 0.63926941, 0.63529412,\n",
       "        0.63414634, 0.63492063, 0.63805436]),\n",
       " 'split4_test_score': array([0.62158273, 0.62228654, 0.61516452, 0.60431655, 0.61473088,\n",
       "        0.62356322, 0.62258953, 0.61772853, 0.62707182, 0.62848752,\n",
       "        0.61582734, 0.61340942, 0.59593023, 0.61403509, 0.61449275,\n",
       "        0.61538462, 0.62552595, 0.6302521 ]),\n",
       " 'mean_test_score': array([0.62010831, 0.62491408, 0.62260902, 0.61638611, 0.62326212,\n",
       "        0.62355715, 0.62270423, 0.62001999, 0.62176176, 0.62590561,\n",
       "        0.61989976, 0.61379119, 0.62010051, 0.61830437, 0.62032866,\n",
       "        0.61325362, 0.61453602, 0.61790489]),\n",
       " 'std_test_score': array([0.01503046, 0.01296147, 0.01282951, 0.01431529, 0.01064527,\n",
       "        0.0145235 , 0.00895443, 0.00950609, 0.00681395, 0.00978157,\n",
       "        0.00764395, 0.01225964, 0.01472574, 0.01147851, 0.00813047,\n",
       "        0.01140111, 0.01401857, 0.01354173]),\n",
       " 'rank_test_score': array([ 9,  2,  6, 15,  4,  3,  5, 11,  7,  1, 12, 17, 10, 13,  8, 18, 16,\n",
       "        14], dtype=int32)}"
      ]
     },
     "execution_count": 50,
     "metadata": {},
     "output_type": "execute_result"
    }
   ],
   "source": [
    "grid.cv_results_"
   ]
  },
  {
   "cell_type": "code",
   "execution_count": null,
   "metadata": {
    "pycharm": {
     "name": "#%%\n"
    }
   },
   "outputs": [],
   "source": []
  },
  {
   "cell_type": "code",
   "execution_count": null,
   "metadata": {
    "pycharm": {
     "name": "#%%\n"
    }
   },
   "outputs": [],
   "source": []
  },
  {
   "cell_type": "markdown",
   "metadata": {},
   "source": [
    "### Ensembles"
   ]
  },
  {
   "cell_type": "code",
   "execution_count": 51,
   "metadata": {
    "pycharm": {
     "name": "#%%\n"
    }
   },
   "outputs": [],
   "source": [
    "from lightgbm import LGBMClassifier\n",
    "from sklearn.pipeline import Pipeline"
   ]
  },
  {
   "cell_type": "code",
   "execution_count": 52,
   "metadata": {
    "pycharm": {
     "name": "#%%\n"
    }
   },
   "outputs": [
    {
     "data": {
      "text/plain": [
       "((7920, 11), (7920,))"
      ]
     },
     "execution_count": 52,
     "metadata": {},
     "output_type": "execute_result"
    },
    {
     "data": {
      "text/plain": [
       "((1080, 11), (1080,))"
      ]
     },
     "execution_count": 52,
     "metadata": {},
     "output_type": "execute_result"
    }
   ],
   "source": [
    "## Preparing data for error analysis\n",
    "# Unscaled features will be used since it's a tree model\n",
    "\n",
    "X_train = df_train.drop(columns = ['Exited'], axis = 1)\n",
    "X_val = df_val.drop(columns = ['Exited'], axis = 1)\n",
    "\n",
    "X_train.shape, y_train.shape\n",
    "X_val.shape, y_val.shape"
   ]
  },
  {
   "cell_type": "code",
   "execution_count": 53,
   "metadata": {
    "pycharm": {
     "name": "#%%\n"
    }
   },
   "outputs": [],
   "source": [
    "## Three versions of the final model with best params for F1-score metric\n",
    "\n",
    "# Equal weights to both target classes (no class imbalance correction)\n",
    "lgb1 = LGBMClassifier(boosting_type = 'dart', class_weight = {0: 1, 1: 1}, min_child_samples = 20, n_jobs = - 1\n",
    "                     , importance_type = 'gain', max_depth = 4, num_leaves = 31, colsample_bytree = 0.6, learning_rate = 0.1\n",
    "                     , n_estimators = 21, reg_alpha = 0, reg_lambda = 0.5)\n",
    "\n",
    "# Addressing class imbalance completely by weighting the undersampled class by the class imbalance ratio\n",
    "lgb2 = LGBMClassifier(boosting_type = 'dart', class_weight = {0: 1, 1: 3.93}, min_child_samples = 20, n_jobs = - 1\n",
    "                     , importance_type = 'gain', max_depth = 6, num_leaves = 63, colsample_bytree = 0.6, learning_rate = 0.1\n",
    "                     , n_estimators = 201, reg_alpha = 1, reg_lambda = 1)\n",
    "\n",
    "\n",
    "# Best class_weight parameter settings (partial class imbalance correction)\n",
    "lgb3 = LGBMClassifier(boosting_type = 'dart', class_weight = {0: 1, 1: 3.0}, min_child_samples = 20, n_jobs = - 1\n",
    "                     , importance_type = 'gain', max_depth = 6, num_leaves = 63, colsample_bytree = 0.6, learning_rate = 0.1\n",
    "                     , n_estimators = 201, reg_alpha = 1, reg_lambda = 1)\n"
   ]
  },
  {
   "cell_type": "code",
   "execution_count": 54,
   "metadata": {
    "pycharm": {
     "name": "#%%\n"
    }
   },
   "outputs": [],
   "source": [
    "## 3 different Pipeline objects for the 3 models defined above\n",
    "model_1 = Pipeline(steps = [('categorical_encoding', CategoricalEncoder()),\n",
    "                          ('add_new_features', AddFeatures()),\n",
    "                          ('classifier', lgb1)\n",
    "                         ])\n",
    "\n",
    "model_2 = Pipeline(steps = [('categorical_encoding', CategoricalEncoder()),\n",
    "                          ('add_new_features', AddFeatures()),\n",
    "                          ('classifier', lgb2)\n",
    "                         ])\n",
    "\n",
    "model_3 = Pipeline(steps = [('categorical_encoding', CategoricalEncoder()),\n",
    "                          ('add_new_features', AddFeatures()),\n",
    "                          ('classifier', lgb3)\n",
    "                         ])"
   ]
  },
  {
   "cell_type": "code",
   "execution_count": 55,
   "metadata": {
    "pycharm": {
     "name": "#%%\n"
    }
   },
   "outputs": [
    {
     "data": {
      "text/plain": [
       "Pipeline(steps=[('categorical_encoding',\n",
       "                 CategoricalEncoder(cols=['Surname', 'Geography', 'Gender'],\n",
       "                                    lcols=['Gender'], ohecols=['Geography'],\n",
       "                                    tcols=['Surname'])),\n",
       "                ('add_new_features', AddFeatures()),\n",
       "                ('classifier',\n",
       "                 LGBMClassifier(boosting_type='dart', class_weight={0: 1, 1: 1},\n",
       "                                colsample_bytree=0.6, importance_type='gain',\n",
       "                                max_depth=4, n_estimators=21, reg_alpha=0,\n",
       "                                reg_lambda=0.5))])"
      ]
     },
     "execution_count": 55,
     "metadata": {},
     "output_type": "execute_result"
    },
    {
     "data": {
      "text/plain": [
       "Pipeline(steps=[('categorical_encoding',\n",
       "                 CategoricalEncoder(cols=['Surname', 'Geography', 'Gender'],\n",
       "                                    lcols=['Gender'], ohecols=['Geography'],\n",
       "                                    tcols=['Surname'])),\n",
       "                ('add_new_features', AddFeatures()),\n",
       "                ('classifier',\n",
       "                 LGBMClassifier(boosting_type='dart',\n",
       "                                class_weight={0: 1, 1: 3.93},\n",
       "                                colsample_bytree=0.6, importance_type='gain',\n",
       "                                max_depth=6, n_estimators=201, num_leaves=63,\n",
       "                                reg_alpha=1, reg_lambda=1))])"
      ]
     },
     "execution_count": 55,
     "metadata": {},
     "output_type": "execute_result"
    },
    {
     "data": {
      "text/plain": [
       "Pipeline(steps=[('categorical_encoding',\n",
       "                 CategoricalEncoder(cols=['Surname', 'Geography', 'Gender'],\n",
       "                                    lcols=['Gender'], ohecols=['Geography'],\n",
       "                                    tcols=['Surname'])),\n",
       "                ('add_new_features', AddFeatures()),\n",
       "                ('classifier',\n",
       "                 LGBMClassifier(boosting_type='dart',\n",
       "                                class_weight={0: 1, 1: 3.0},\n",
       "                                colsample_bytree=0.6, importance_type='gain',\n",
       "                                max_depth=6, n_estimators=201, num_leaves=63,\n",
       "                                reg_alpha=1, reg_lambda=1))])"
      ]
     },
     "execution_count": 55,
     "metadata": {},
     "output_type": "execute_result"
    }
   ],
   "source": [
    "## Fitting each of these models\n",
    "model_1.fit(X_train, y_train.ravel())\n",
    "model_2.fit(X_train, y_train.ravel())\n",
    "model_3.fit(X_train, y_train.ravel())"
   ]
  },
  {
   "cell_type": "code",
   "execution_count": 56,
   "metadata": {
    "pycharm": {
     "name": "#%%\n"
    }
   },
   "outputs": [],
   "source": [
    "## Getting prediction probabilities from each of these models\n",
    "m1_pred_probs_trn = model_1.predict_proba(X_train)\n",
    "m2_pred_probs_trn = model_2.predict_proba(X_train)\n",
    "m3_pred_probs_trn = model_3.predict_proba(X_train)"
   ]
  },
  {
   "cell_type": "code",
   "execution_count": 57,
   "metadata": {
    "pycharm": {
     "name": "#%%\n"
    }
   },
   "outputs": [
    {
     "data": {
      "text/plain": [
       "(7920, 3)"
      ]
     },
     "execution_count": 57,
     "metadata": {},
     "output_type": "execute_result"
    },
    {
     "data": {
      "text/html": [
       "<div>\n",
       "<style scoped>\n",
       "    .dataframe tbody tr th:only-of-type {\n",
       "        vertical-align: middle;\n",
       "    }\n",
       "\n",
       "    .dataframe tbody tr th {\n",
       "        vertical-align: top;\n",
       "    }\n",
       "\n",
       "    .dataframe thead th {\n",
       "        text-align: right;\n",
       "    }\n",
       "</style>\n",
       "<table border=\"1\" class=\"dataframe\">\n",
       "  <thead>\n",
       "    <tr style=\"text-align: right;\">\n",
       "      <th></th>\n",
       "      <th>m1_pred</th>\n",
       "      <th>m2_pred</th>\n",
       "      <th>m3_pred</th>\n",
       "    </tr>\n",
       "  </thead>\n",
       "  <tbody>\n",
       "    <tr>\n",
       "      <th>m1_pred</th>\n",
       "      <td>1.000000</td>\n",
       "      <td>0.907405</td>\n",
       "      <td>0.923072</td>\n",
       "    </tr>\n",
       "    <tr>\n",
       "      <th>m2_pred</th>\n",
       "      <td>0.907405</td>\n",
       "      <td>1.000000</td>\n",
       "      <td>0.992430</td>\n",
       "    </tr>\n",
       "    <tr>\n",
       "      <th>m3_pred</th>\n",
       "      <td>0.923072</td>\n",
       "      <td>0.992430</td>\n",
       "      <td>1.000000</td>\n",
       "    </tr>\n",
       "  </tbody>\n",
       "</table>\n",
       "</div>"
      ],
      "text/plain": [
       "          m1_pred   m2_pred   m3_pred\n",
       "m1_pred  1.000000  0.907405  0.923072\n",
       "m2_pred  0.907405  1.000000  0.992430\n",
       "m3_pred  0.923072  0.992430  1.000000"
      ]
     },
     "execution_count": 57,
     "metadata": {},
     "output_type": "execute_result"
    }
   ],
   "source": [
    "## Checking correlations between the predictions of the 3 models\n",
    "df_t = pd.DataFrame({'m1_pred': m1_pred_probs_trn[:,1], 'm2_pred': m2_pred_probs_trn[:,1], 'm3_pred': m3_pred_probs_trn[:,1]})\n",
    "df_t.shape\n",
    "df_t.corr()"
   ]
  },
  {
   "cell_type": "markdown",
   "metadata": {},
   "source": [
    "we will form an ensemble of m1 and m2 (model stacking) and see if that improves the model accuracy"
   ]
  },
  {
   "cell_type": "code",
   "execution_count": 58,
   "metadata": {
    "pycharm": {
     "name": "#%%\n"
    }
   },
   "outputs": [],
   "source": [
    "## Importing relevant metric libraries\n",
    "from sklearn.metrics import roc_auc_score, f1_score, recall_score, confusion_matrix, classification_report"
   ]
  },
  {
   "cell_type": "code",
   "execution_count": 59,
   "metadata": {
    "pycharm": {
     "name": "#%%\n"
    }
   },
   "outputs": [],
   "source": [
    "## Getting prediction probabilities from each of these models\n",
    "m1_pred_probs_val = model_1.predict_proba(X_val)\n",
    "m2_pred_probs_val = model_2.predict_proba(X_val)\n",
    "m3_pred_probs_val = model_3.predict_proba(X_val)"
   ]
  },
  {
   "cell_type": "code",
   "execution_count": 60,
   "metadata": {
    "pycharm": {
     "name": "#%%\n"
    }
   },
   "outputs": [],
   "source": [
    "threshold = 0.5"
   ]
  },
  {
   "cell_type": "code",
   "execution_count": 61,
   "metadata": {
    "pycharm": {
     "name": "#%%\n"
    }
   },
   "outputs": [],
   "source": [
    "## Best model (Model 3) predictions\n",
    "m3_preds = np.where(m3_pred_probs_val[:,1] >= threshold, 1, 0)"
   ]
  },
  {
   "cell_type": "code",
   "execution_count": 62,
   "metadata": {
    "pycharm": {
     "name": "#%%\n"
    }
   },
   "outputs": [],
   "source": [
    "## Model averaging predictions (Weighted average)\n",
    "m1_m2_preds = np.where(((0.1*m1_pred_probs_val[:,1]) + (0.9*m2_pred_probs_val[:,1])) >= threshold, 1, 0)"
   ]
  },
  {
   "cell_type": "code",
   "execution_count": 63,
   "metadata": {
    "pycharm": {
     "name": "#%%\n"
    }
   },
   "outputs": [
    {
     "data": {
      "text/plain": [
       "0.7605840435936845"
      ]
     },
     "execution_count": 63,
     "metadata": {},
     "output_type": "execute_result"
    },
    {
     "data": {
      "text/plain": [
       "0.6470588235294118"
      ]
     },
     "execution_count": 63,
     "metadata": {},
     "output_type": "execute_result"
    },
    {
     "data": {
      "text/plain": [
       "array([[736, 106],\n",
       "       [ 84, 154]])"
      ]
     },
     "execution_count": 63,
     "metadata": {},
     "output_type": "execute_result"
    },
    {
     "name": "stdout",
     "output_type": "stream",
     "text": [
      "              precision    recall  f1-score   support\n",
      "\n",
      "           0       0.90      0.87      0.89       842\n",
      "           1       0.59      0.65      0.62       238\n",
      "\n",
      "    accuracy                           0.82      1080\n",
      "   macro avg       0.74      0.76      0.75      1080\n",
      "weighted avg       0.83      0.82      0.83      1080\n",
      "\n"
     ]
    }
   ],
   "source": [
    "## Model 3 (Best model, tuned by GridSearch) performance on validation set\n",
    "roc_auc_score(y_val, m3_preds)\n",
    "recall_score(y_val, m3_preds)\n",
    "confusion_matrix(y_val, m3_preds)\n",
    "print(classification_report(y_val, m3_preds))"
   ]
  },
  {
   "cell_type": "code",
   "execution_count": 64,
   "metadata": {
    "pycharm": {
     "name": "#%%\n"
    }
   },
   "outputs": [
    {
     "data": {
      "text/plain": [
       "0.7705393321223977"
      ]
     },
     "execution_count": 64,
     "metadata": {},
     "output_type": "execute_result"
    },
    {
     "data": {
      "text/plain": [
       "0.6764705882352942"
      ]
     },
     "execution_count": 64,
     "metadata": {},
     "output_type": "execute_result"
    },
    {
     "data": {
      "text/plain": [
       "array([[728, 114],\n",
       "       [ 77, 161]])"
      ]
     },
     "execution_count": 64,
     "metadata": {},
     "output_type": "execute_result"
    },
    {
     "name": "stdout",
     "output_type": "stream",
     "text": [
      "              precision    recall  f1-score   support\n",
      "\n",
      "           0       0.90      0.86      0.88       842\n",
      "           1       0.59      0.68      0.63       238\n",
      "\n",
      "    accuracy                           0.82      1080\n",
      "   macro avg       0.74      0.77      0.76      1080\n",
      "weighted avg       0.83      0.82      0.83      1080\n",
      "\n"
     ]
    }
   ],
   "source": [
    "## Ensemble model prediction on validation set\n",
    "roc_auc_score(y_val, m1_m2_preds)\n",
    "recall_score(y_val, m1_m2_preds)\n",
    "confusion_matrix(y_val, m1_m2_preds)\n",
    "print(classification_report(y_val, m1_m2_preds))"
   ]
  },
  {
   "cell_type": "code",
   "execution_count": null,
   "metadata": {
    "pycharm": {
     "name": "#%%\n"
    }
   },
   "outputs": [],
   "source": []
  },
  {
   "cell_type": "code",
   "execution_count": null,
   "metadata": {
    "pycharm": {
     "name": "#%%\n"
    }
   },
   "outputs": [],
   "source": []
  },
  {
   "cell_type": "markdown",
   "metadata": {},
   "source": [
    "#### Model stacking\n",
    "\n",
    "The base models are the 2 LightGBM models with different class_weights parameters. They are stacked on top by a logistic regression model. \n",
    "\n",
    "For training, we have the predictions from the 2 models on the train set. They go in as the input to the next layer of the Ensemble, which is the logistic regression model, and train the logistic regression model\n",
    "\n",
    "For prediction, we first predict using the 2 LGBM models on the validation set. The predictions from the two models go as inputs to the logistic regression which gives out the final prediction"
   ]
  },
  {
   "cell_type": "code",
   "execution_count": 65,
   "metadata": {
    "pycharm": {
     "name": "#%%\n"
    }
   },
   "outputs": [],
   "source": [
    "from sklearn.linear_model import LogisticRegression"
   ]
  },
  {
   "cell_type": "code",
   "execution_count": 66,
   "metadata": {
    "pycharm": {
     "name": "#%%\n"
    }
   },
   "outputs": [
    {
     "data": {
      "text/plain": [
       "LogisticRegression(class_weight={0: 1, 1: 2.0})"
      ]
     },
     "execution_count": 66,
     "metadata": {},
     "output_type": "execute_result"
    }
   ],
   "source": [
    "## Training\n",
    "lr = LogisticRegression(C = 1.0, class_weight =  {0:1, 1:2.0})\n",
    "\n",
    "# Concatenating the probability predictions of the 2 models on train set\n",
    "X_t = np.c_[m1_pred_probs_trn[:,1],m2_pred_probs_trn[:,1]] \n",
    "\n",
    "# Fit stacker model on top of outputs of base model\n",
    "lr.fit(X_t, y_train)"
   ]
  },
  {
   "cell_type": "code",
   "execution_count": 67,
   "metadata": {
    "pycharm": {
     "name": "#%%\n"
    }
   },
   "outputs": [],
   "source": [
    "## Prediction\n",
    "# Concatenating outputs from both the base models on the validation set\n",
    "X_t_val = np.c_[m1_pred_probs_val[:,1],m2_pred_probs_val[:,1]]\n",
    "\n",
    "# Predict using the stacker model\n",
    "m1_m2_preds = lr.predict(X_t_val)"
   ]
  },
  {
   "cell_type": "code",
   "execution_count": 68,
   "metadata": {
    "pycharm": {
     "name": "#%%\n"
    }
   },
   "outputs": [
    {
     "data": {
      "text/plain": [
       "0.770449509970259"
      ]
     },
     "execution_count": 68,
     "metadata": {},
     "output_type": "execute_result"
    },
    {
     "data": {
      "text/plain": [
       "0.6596638655462185"
      ]
     },
     "execution_count": 68,
     "metadata": {},
     "output_type": "execute_result"
    },
    {
     "data": {
      "text/plain": [
       "array([[742, 100],\n",
       "       [ 81, 157]])"
      ]
     },
     "execution_count": 68,
     "metadata": {},
     "output_type": "execute_result"
    },
    {
     "name": "stdout",
     "output_type": "stream",
     "text": [
      "              precision    recall  f1-score   support\n",
      "\n",
      "           0       0.90      0.88      0.89       842\n",
      "           1       0.61      0.66      0.63       238\n",
      "\n",
      "    accuracy                           0.83      1080\n",
      "   macro avg       0.76      0.77      0.76      1080\n",
      "weighted avg       0.84      0.83      0.83      1080\n",
      "\n"
     ]
    }
   ],
   "source": [
    "## Ensemble model prediction on validation set\n",
    "roc_auc_score(y_val, m1_m2_preds)\n",
    "recall_score(y_val, m1_m2_preds)\n",
    "confusion_matrix(y_val, m1_m2_preds)\n",
    "print(classification_report(y_val, m1_m2_preds))"
   ]
  },
  {
   "cell_type": "code",
   "execution_count": 69,
   "metadata": {
    "pycharm": {
     "name": "#%%\n"
    }
   },
   "outputs": [
    {
     "data": {
      "text/plain": [
       "array([[-2.42377331,  8.62226869]])"
      ]
     },
     "execution_count": 69,
     "metadata": {},
     "output_type": "execute_result"
    },
    {
     "data": {
      "text/plain": [
       "array([-4.15402428])"
      ]
     },
     "execution_count": 69,
     "metadata": {},
     "output_type": "execute_result"
    }
   ],
   "source": [
    "# Model weights learnt by the stacker LogReg model\n",
    "lr.coef_\n",
    "lr.intercept_"
   ]
  },
  {
   "cell_type": "code",
   "execution_count": null,
   "metadata": {
    "pycharm": {
     "name": "#%%\n"
    }
   },
   "outputs": [],
   "source": []
  },
  {
   "cell_type": "code",
   "execution_count": null,
   "metadata": {
    "pycharm": {
     "name": "#%%\n"
    }
   },
   "outputs": [],
   "source": []
  },
  {
   "cell_type": "markdown",
   "metadata": {},
   "source": [
    "### Error analysis"
   ]
  },
  {
   "cell_type": "code",
   "execution_count": 70,
   "metadata": {
    "pycharm": {
     "name": "#%%\n"
    }
   },
   "outputs": [],
   "source": [
    "from lightgbm import LGBMClassifier\n",
    "from sklearn.pipeline import Pipeline"
   ]
  },
  {
   "cell_type": "code",
   "execution_count": 71,
   "metadata": {
    "pycharm": {
     "name": "#%%\n"
    }
   },
   "outputs": [
    {
     "data": {
      "text/plain": [
       "((7920, 11), (7920,))"
      ]
     },
     "execution_count": 71,
     "metadata": {},
     "output_type": "execute_result"
    },
    {
     "data": {
      "text/plain": [
       "((1080, 11), (1080,))"
      ]
     },
     "execution_count": 71,
     "metadata": {},
     "output_type": "execute_result"
    }
   ],
   "source": [
    "## Preparing data for error analysis\n",
    "\n",
    "X_train = df_train.drop(columns = ['Exited'], axis = 1)\n",
    "X_val = df_val.drop(columns = ['Exited'], axis = 1)\n",
    "\n",
    "X_train.shape, y_train.shape\n",
    "X_val.shape, y_val.shape"
   ]
  },
  {
   "cell_type": "code",
   "execution_count": 72,
   "metadata": {
    "pycharm": {
     "name": "#%%\n"
    }
   },
   "outputs": [],
   "source": [
    "## Final model with best params for F1-score metric\n",
    "\n",
    "lgb = LGBMClassifier(boosting_type = 'dart', class_weight = {0: 1, 1: 3.0}, min_child_samples = 20, n_jobs = - 1\n",
    "                     , importance_type = 'gain', max_depth = 6, num_leaves = 63, colsample_bytree = 0.6, learning_rate = 0.1\n",
    "                     , n_estimators = 201, reg_alpha = 1, reg_lambda = 1)\n",
    "\n",
    "\n",
    "model = Pipeline(steps = [('categorical_encoding', CategoricalEncoder()),\n",
    "                          ('add_new_features', AddFeatures()),\n",
    "                          ('classifier', lgb)\n",
    "                         ])"
   ]
  },
  {
   "cell_type": "code",
   "execution_count": 73,
   "metadata": {
    "pycharm": {
     "name": "#%%\n"
    }
   },
   "outputs": [
    {
     "data": {
      "text/plain": [
       "Pipeline(steps=[('categorical_encoding',\n",
       "                 CategoricalEncoder(cols=['Surname', 'Geography', 'Gender'],\n",
       "                                    lcols=['Gender'], ohecols=['Geography'],\n",
       "                                    tcols=['Surname'])),\n",
       "                ('add_new_features', AddFeatures()),\n",
       "                ('classifier',\n",
       "                 LGBMClassifier(boosting_type='dart',\n",
       "                                class_weight={0: 1, 1: 3.0},\n",
       "                                colsample_bytree=0.6, importance_type='gain',\n",
       "                                max_depth=6, n_estimators=201, num_leaves=63,\n",
       "                                reg_alpha=1, reg_lambda=1))])"
      ]
     },
     "execution_count": 73,
     "metadata": {},
     "output_type": "execute_result"
    }
   ],
   "source": [
    "## Fit best model\n",
    "model.fit(X_train, y_train.ravel())"
   ]
  },
  {
   "cell_type": "code",
   "execution_count": 74,
   "metadata": {
    "pycharm": {
     "name": "#%%\n"
    }
   },
   "outputs": [],
   "source": [
    "## Making predictions on a copy of validation set\n",
    "df_ea = df_val.copy()\n",
    "df_ea['y_pred'] = model.predict(X_val)\n",
    "df_ea['y_pred_prob'] = model.predict_proba(X_val)[:,1]"
   ]
  },
  {
   "cell_type": "code",
   "execution_count": 75,
   "metadata": {
    "pycharm": {
     "name": "#%%\n"
    }
   },
   "outputs": [
    {
     "data": {
      "text/plain": [
       "(1080, 14)"
      ]
     },
     "execution_count": 75,
     "metadata": {},
     "output_type": "execute_result"
    },
    {
     "data": {
      "text/html": [
       "<div>\n",
       "<style scoped>\n",
       "    .dataframe tbody tr th:only-of-type {\n",
       "        vertical-align: middle;\n",
       "    }\n",
       "\n",
       "    .dataframe tbody tr th {\n",
       "        vertical-align: top;\n",
       "    }\n",
       "\n",
       "    .dataframe thead th {\n",
       "        text-align: right;\n",
       "    }\n",
       "</style>\n",
       "<table border=\"1\" class=\"dataframe\">\n",
       "  <thead>\n",
       "    <tr style=\"text-align: right;\">\n",
       "      <th></th>\n",
       "      <th>Surname</th>\n",
       "      <th>CreditScore</th>\n",
       "      <th>Geography</th>\n",
       "      <th>Gender</th>\n",
       "      <th>Age</th>\n",
       "      <th>Tenure</th>\n",
       "      <th>Balance</th>\n",
       "      <th>NumOfProducts</th>\n",
       "      <th>HasCrCard</th>\n",
       "      <th>IsActiveMember</th>\n",
       "      <th>EstimatedSalary</th>\n",
       "      <th>Exited</th>\n",
       "      <th>y_pred</th>\n",
       "      <th>y_pred_prob</th>\n",
       "    </tr>\n",
       "  </thead>\n",
       "  <tbody>\n",
       "    <tr>\n",
       "      <th>162</th>\n",
       "      <td>Treacy</td>\n",
       "      <td>800</td>\n",
       "      <td>France</td>\n",
       "      <td>Female</td>\n",
       "      <td>49</td>\n",
       "      <td>7</td>\n",
       "      <td>108007.36</td>\n",
       "      <td>1</td>\n",
       "      <td>0</td>\n",
       "      <td>0</td>\n",
       "      <td>47125.11</td>\n",
       "      <td>0</td>\n",
       "      <td>1</td>\n",
       "      <td>0.741871</td>\n",
       "    </tr>\n",
       "    <tr>\n",
       "      <th>8438</th>\n",
       "      <td>Rogova</td>\n",
       "      <td>707</td>\n",
       "      <td>Germany</td>\n",
       "      <td>Female</td>\n",
       "      <td>48</td>\n",
       "      <td>7</td>\n",
       "      <td>105086.74</td>\n",
       "      <td>1</td>\n",
       "      <td>1</td>\n",
       "      <td>1</td>\n",
       "      <td>180344.69</td>\n",
       "      <td>1</td>\n",
       "      <td>1</td>\n",
       "      <td>0.744854</td>\n",
       "    </tr>\n",
       "    <tr>\n",
       "      <th>9729</th>\n",
       "      <td>Tretiakova</td>\n",
       "      <td>651</td>\n",
       "      <td>France</td>\n",
       "      <td>Male</td>\n",
       "      <td>23</td>\n",
       "      <td>10</td>\n",
       "      <td>0.00</td>\n",
       "      <td>2</td>\n",
       "      <td>1</td>\n",
       "      <td>1</td>\n",
       "      <td>170099.23</td>\n",
       "      <td>0</td>\n",
       "      <td>0</td>\n",
       "      <td>0.042162</td>\n",
       "    </tr>\n",
       "    <tr>\n",
       "      <th>2352</th>\n",
       "      <td>Nuttall</td>\n",
       "      <td>637</td>\n",
       "      <td>Spain</td>\n",
       "      <td>Female</td>\n",
       "      <td>45</td>\n",
       "      <td>2</td>\n",
       "      <td>157929.45</td>\n",
       "      <td>1</td>\n",
       "      <td>1</td>\n",
       "      <td>1</td>\n",
       "      <td>145134.49</td>\n",
       "      <td>1</td>\n",
       "      <td>0</td>\n",
       "      <td>0.417057</td>\n",
       "    </tr>\n",
       "    <tr>\n",
       "      <th>9143</th>\n",
       "      <td>Bailey</td>\n",
       "      <td>676</td>\n",
       "      <td>France</td>\n",
       "      <td>Female</td>\n",
       "      <td>34</td>\n",
       "      <td>8</td>\n",
       "      <td>100359.54</td>\n",
       "      <td>1</td>\n",
       "      <td>0</td>\n",
       "      <td>0</td>\n",
       "      <td>46038.28</td>\n",
       "      <td>0</td>\n",
       "      <td>0</td>\n",
       "      <td>0.147434</td>\n",
       "    </tr>\n",
       "  </tbody>\n",
       "</table>\n",
       "</div>"
      ],
      "text/plain": [
       "         Surname  CreditScore Geography  Gender  Age  Tenure    Balance  \\\n",
       "162       Treacy          800    France  Female   49       7  108007.36   \n",
       "8438      Rogova          707   Germany  Female   48       7  105086.74   \n",
       "9729  Tretiakova          651    France    Male   23      10       0.00   \n",
       "2352     Nuttall          637     Spain  Female   45       2  157929.45   \n",
       "9143      Bailey          676    France  Female   34       8  100359.54   \n",
       "\n",
       "      NumOfProducts  HasCrCard  IsActiveMember  EstimatedSalary  Exited  \\\n",
       "162               1          0               0         47125.11       0   \n",
       "8438              1          1               1        180344.69       1   \n",
       "9729              2          1               1        170099.23       0   \n",
       "2352              1          1               1        145134.49       1   \n",
       "9143              1          0               0         46038.28       0   \n",
       "\n",
       "      y_pred  y_pred_prob  \n",
       "162        1     0.741871  \n",
       "8438       1     0.744854  \n",
       "9729       0     0.042162  \n",
       "2352       0     0.417057  \n",
       "9143       0     0.147434  "
      ]
     },
     "execution_count": 75,
     "metadata": {},
     "output_type": "execute_result"
    }
   ],
   "source": [
    "df_ea.shape\n",
    "df_ea.sample(5)"
   ]
  },
  {
   "cell_type": "code",
   "execution_count": 76,
   "metadata": {
    "pycharm": {
     "name": "#%%\n"
    }
   },
   "outputs": [
    {
     "data": {
      "text/plain": [
       "<AxesSubplot:>"
      ]
     },
     "execution_count": 76,
     "metadata": {},
     "output_type": "execute_result"
    },
    {
     "data": {
      "image/png": "[encoded data removed]",
      "text/plain": [
       "<Figure size 432x288 with 1 Axes>"
      ]
     },
     "metadata": {
      "needs_background": "light"
     },
     "output_type": "display_data"
    }
   ],
   "source": [
    "## Visualizing distribution of predicted probabilities\n",
    "sns.violinplot(y_val.ravel(), df_ea['y_pred_prob'].values)"
   ]
  },
  {
   "cell_type": "markdown",
   "metadata": {},
   "source": [
    "#### Extracting the subset of incorrect predictions\n",
    "\n",
    "All incorrect predictions are extracted and categorized into false positives (low precision) and false negatives (low recall)"
   ]
  },
  {
   "cell_type": "code",
   "execution_count": 77,
   "metadata": {
    "pycharm": {
     "name": "#%%\n"
    }
   },
   "outputs": [
    {
     "data": {
      "text/plain": [
       "(84, 14)"
      ]
     },
     "execution_count": 77,
     "metadata": {},
     "output_type": "execute_result"
    },
    {
     "data": {
      "text/plain": [
       "(106, 14)"
      ]
     },
     "execution_count": 77,
     "metadata": {},
     "output_type": "execute_result"
    },
    {
     "data": {
      "text/html": [
       "<div>\n",
       "<style scoped>\n",
       "    .dataframe tbody tr th:only-of-type {\n",
       "        vertical-align: middle;\n",
       "    }\n",
       "\n",
       "    .dataframe tbody tr th {\n",
       "        vertical-align: top;\n",
       "    }\n",
       "\n",
       "    .dataframe thead th {\n",
       "        text-align: right;\n",
       "    }\n",
       "</style>\n",
       "<table border=\"1\" class=\"dataframe\">\n",
       "  <thead>\n",
       "    <tr style=\"text-align: right;\">\n",
       "      <th></th>\n",
       "      <th>Surname</th>\n",
       "      <th>CreditScore</th>\n",
       "      <th>Geography</th>\n",
       "      <th>Gender</th>\n",
       "      <th>Age</th>\n",
       "      <th>Tenure</th>\n",
       "      <th>Balance</th>\n",
       "      <th>NumOfProducts</th>\n",
       "      <th>HasCrCard</th>\n",
       "      <th>IsActiveMember</th>\n",
       "      <th>EstimatedSalary</th>\n",
       "      <th>Exited</th>\n",
       "      <th>y_pred</th>\n",
       "      <th>y_pred_prob</th>\n",
       "    </tr>\n",
       "  </thead>\n",
       "  <tbody>\n",
       "    <tr>\n",
       "      <th>1218</th>\n",
       "      <td>Docherty</td>\n",
       "      <td>706</td>\n",
       "      <td>France</td>\n",
       "      <td>Female</td>\n",
       "      <td>23</td>\n",
       "      <td>5</td>\n",
       "      <td>0.00</td>\n",
       "      <td>1</td>\n",
       "      <td>0</td>\n",
       "      <td>0</td>\n",
       "      <td>164128.41</td>\n",
       "      <td>1</td>\n",
       "      <td>0</td>\n",
       "      <td>0.436350</td>\n",
       "    </tr>\n",
       "    <tr>\n",
       "      <th>3741</th>\n",
       "      <td>Thompson</td>\n",
       "      <td>738</td>\n",
       "      <td>Germany</td>\n",
       "      <td>Female</td>\n",
       "      <td>29</td>\n",
       "      <td>9</td>\n",
       "      <td>139106.19</td>\n",
       "      <td>1</td>\n",
       "      <td>1</td>\n",
       "      <td>0</td>\n",
       "      <td>141872.05</td>\n",
       "      <td>1</td>\n",
       "      <td>0</td>\n",
       "      <td>0.426364</td>\n",
       "    </tr>\n",
       "    <tr>\n",
       "      <th>3212</th>\n",
       "      <td>Hs?</td>\n",
       "      <td>611</td>\n",
       "      <td>France</td>\n",
       "      <td>Male</td>\n",
       "      <td>35</td>\n",
       "      <td>10</td>\n",
       "      <td>0.00</td>\n",
       "      <td>1</td>\n",
       "      <td>1</td>\n",
       "      <td>1</td>\n",
       "      <td>23598.23</td>\n",
       "      <td>1</td>\n",
       "      <td>0</td>\n",
       "      <td>0.197232</td>\n",
       "    </tr>\n",
       "    <tr>\n",
       "      <th>5020</th>\n",
       "      <td>Page</td>\n",
       "      <td>491</td>\n",
       "      <td>Germany</td>\n",
       "      <td>Female</td>\n",
       "      <td>68</td>\n",
       "      <td>1</td>\n",
       "      <td>95039.12</td>\n",
       "      <td>1</td>\n",
       "      <td>0</td>\n",
       "      <td>1</td>\n",
       "      <td>116471.14</td>\n",
       "      <td>1</td>\n",
       "      <td>0</td>\n",
       "      <td>0.353437</td>\n",
       "    </tr>\n",
       "    <tr>\n",
       "      <th>4918</th>\n",
       "      <td>Bruno</td>\n",
       "      <td>717</td>\n",
       "      <td>France</td>\n",
       "      <td>Female</td>\n",
       "      <td>36</td>\n",
       "      <td>2</td>\n",
       "      <td>99472.76</td>\n",
       "      <td>2</td>\n",
       "      <td>1</td>\n",
       "      <td>0</td>\n",
       "      <td>94274.72</td>\n",
       "      <td>1</td>\n",
       "      <td>0</td>\n",
       "      <td>0.108109</td>\n",
       "    </tr>\n",
       "  </tbody>\n",
       "</table>\n",
       "</div>"
      ],
      "text/plain": [
       "       Surname  CreditScore Geography  Gender  Age  Tenure    Balance  \\\n",
       "1218  Docherty          706    France  Female   23       5       0.00   \n",
       "3741  Thompson          738   Germany  Female   29       9  139106.19   \n",
       "3212       Hs?          611    France    Male   35      10       0.00   \n",
       "5020      Page          491   Germany  Female   68       1   95039.12   \n",
       "4918     Bruno          717    France  Female   36       2   99472.76   \n",
       "\n",
       "      NumOfProducts  HasCrCard  IsActiveMember  EstimatedSalary  Exited  \\\n",
       "1218              1          0               0        164128.41       1   \n",
       "3741              1          1               0        141872.05       1   \n",
       "3212              1          1               1         23598.23       1   \n",
       "5020              1          0               1        116471.14       1   \n",
       "4918              2          1               0         94274.72       1   \n",
       "\n",
       "      y_pred  y_pred_prob  \n",
       "1218       0     0.436350  \n",
       "3741       0     0.426364  \n",
       "3212       0     0.197232  \n",
       "5020       0     0.353437  \n",
       "4918       0     0.108109  "
      ]
     },
     "execution_count": 77,
     "metadata": {},
     "output_type": "execute_result"
    },
    {
     "data": {
      "text/html": [
       "<div>\n",
       "<style scoped>\n",
       "    .dataframe tbody tr th:only-of-type {\n",
       "        vertical-align: middle;\n",
       "    }\n",
       "\n",
       "    .dataframe tbody tr th {\n",
       "        vertical-align: top;\n",
       "    }\n",
       "\n",
       "    .dataframe thead th {\n",
       "        text-align: right;\n",
       "    }\n",
       "</style>\n",
       "<table border=\"1\" class=\"dataframe\">\n",
       "  <thead>\n",
       "    <tr style=\"text-align: right;\">\n",
       "      <th></th>\n",
       "      <th>Surname</th>\n",
       "      <th>CreditScore</th>\n",
       "      <th>Geography</th>\n",
       "      <th>Gender</th>\n",
       "      <th>Age</th>\n",
       "      <th>Tenure</th>\n",
       "      <th>Balance</th>\n",
       "      <th>NumOfProducts</th>\n",
       "      <th>HasCrCard</th>\n",
       "      <th>IsActiveMember</th>\n",
       "      <th>EstimatedSalary</th>\n",
       "      <th>Exited</th>\n",
       "      <th>y_pred</th>\n",
       "      <th>y_pred_prob</th>\n",
       "    </tr>\n",
       "  </thead>\n",
       "  <tbody>\n",
       "    <tr>\n",
       "      <th>7335</th>\n",
       "      <td>Owen</td>\n",
       "      <td>651</td>\n",
       "      <td>France</td>\n",
       "      <td>Female</td>\n",
       "      <td>41</td>\n",
       "      <td>4</td>\n",
       "      <td>38617.20</td>\n",
       "      <td>1</td>\n",
       "      <td>1</td>\n",
       "      <td>1</td>\n",
       "      <td>104876.80</td>\n",
       "      <td>0</td>\n",
       "      <td>1</td>\n",
       "      <td>0.537131</td>\n",
       "    </tr>\n",
       "    <tr>\n",
       "      <th>162</th>\n",
       "      <td>Treacy</td>\n",
       "      <td>800</td>\n",
       "      <td>France</td>\n",
       "      <td>Female</td>\n",
       "      <td>49</td>\n",
       "      <td>7</td>\n",
       "      <td>108007.36</td>\n",
       "      <td>1</td>\n",
       "      <td>0</td>\n",
       "      <td>0</td>\n",
       "      <td>47125.11</td>\n",
       "      <td>0</td>\n",
       "      <td>1</td>\n",
       "      <td>0.741871</td>\n",
       "    </tr>\n",
       "    <tr>\n",
       "      <th>4802</th>\n",
       "      <td>Capon</td>\n",
       "      <td>512</td>\n",
       "      <td>Spain</td>\n",
       "      <td>Male</td>\n",
       "      <td>39</td>\n",
       "      <td>3</td>\n",
       "      <td>0.00</td>\n",
       "      <td>1</td>\n",
       "      <td>1</td>\n",
       "      <td>0</td>\n",
       "      <td>134878.19</td>\n",
       "      <td>0</td>\n",
       "      <td>1</td>\n",
       "      <td>0.590946</td>\n",
       "    </tr>\n",
       "    <tr>\n",
       "      <th>7632</th>\n",
       "      <td>Sinnett</td>\n",
       "      <td>736</td>\n",
       "      <td>France</td>\n",
       "      <td>Male</td>\n",
       "      <td>43</td>\n",
       "      <td>4</td>\n",
       "      <td>202443.47</td>\n",
       "      <td>1</td>\n",
       "      <td>1</td>\n",
       "      <td>0</td>\n",
       "      <td>72375.03</td>\n",
       "      <td>0</td>\n",
       "      <td>1</td>\n",
       "      <td>0.686637</td>\n",
       "    </tr>\n",
       "    <tr>\n",
       "      <th>4935</th>\n",
       "      <td>Toscani</td>\n",
       "      <td>505</td>\n",
       "      <td>Germany</td>\n",
       "      <td>Male</td>\n",
       "      <td>43</td>\n",
       "      <td>6</td>\n",
       "      <td>127146.68</td>\n",
       "      <td>1</td>\n",
       "      <td>0</td>\n",
       "      <td>0</td>\n",
       "      <td>137565.87</td>\n",
       "      <td>0</td>\n",
       "      <td>1</td>\n",
       "      <td>0.839606</td>\n",
       "    </tr>\n",
       "  </tbody>\n",
       "</table>\n",
       "</div>"
      ],
      "text/plain": [
       "      Surname  CreditScore Geography  Gender  Age  Tenure    Balance  \\\n",
       "7335     Owen          651    France  Female   41       4   38617.20   \n",
       "162    Treacy          800    France  Female   49       7  108007.36   \n",
       "4802    Capon          512     Spain    Male   39       3       0.00   \n",
       "7632  Sinnett          736    France    Male   43       4  202443.47   \n",
       "4935  Toscani          505   Germany    Male   43       6  127146.68   \n",
       "\n",
       "      NumOfProducts  HasCrCard  IsActiveMember  EstimatedSalary  Exited  \\\n",
       "7335              1          1               1        104876.80       0   \n",
       "162               1          0               0         47125.11       0   \n",
       "4802              1          1               0        134878.19       0   \n",
       "7632              1          1               0         72375.03       0   \n",
       "4935              1          0               0        137565.87       0   \n",
       "\n",
       "      y_pred  y_pred_prob  \n",
       "7335       1     0.537131  \n",
       "162        1     0.741871  \n",
       "4802       1     0.590946  \n",
       "7632       1     0.686637  \n",
       "4935       1     0.839606  "
      ]
     },
     "execution_count": 77,
     "metadata": {},
     "output_type": "execute_result"
    }
   ],
   "source": [
    "low_recall = df_ea[(df_ea.Exited == 1) & (df_ea.y_pred == 0)]\n",
    "low_prec = df_ea[(df_ea.Exited == 0) & (df_ea.y_pred == 1)]\n",
    "low_recall.shape\n",
    "low_prec.shape\n",
    "low_recall.head()\n",
    "low_prec.head()"
   ]
  },
  {
   "cell_type": "code",
   "execution_count": 78,
   "metadata": {
    "pycharm": {
     "name": "#%%\n"
    }
   },
   "outputs": [
    {
     "data": {
      "text/plain": [
       "<AxesSubplot:xlabel='y_pred_prob', ylabel='Density'>"
      ]
     },
     "execution_count": 78,
     "metadata": {},
     "output_type": "execute_result"
    },
    {
     "data": {
      "image/png": "[encoded data removed]",
      "text/plain": [
       "<Figure size 432x288 with 1 Axes>"
      ]
     },
     "metadata": {
      "needs_background": "light"
     },
     "output_type": "display_data"
    }
   ],
   "source": [
    "## Prediction probabilty distribution of errors causing low recall\n",
    "sns.distplot(low_recall.y_pred_prob, hist=False)"
   ]
  },
  {
   "cell_type": "code",
   "execution_count": 79,
   "metadata": {
    "pycharm": {
     "name": "#%%\n"
    }
   },
   "outputs": [
    {
     "data": {
      "text/plain": [
       "<AxesSubplot:xlabel='y_pred_prob', ylabel='Density'>"
      ]
     },
     "execution_count": 79,
     "metadata": {},
     "output_type": "execute_result"
    },
    {
     "data": {
      "image/png": "[encoded data removed]",
      "text/plain": [
       "<Figure size 432x288 with 1 Axes>"
      ]
     },
     "metadata": {
      "needs_background": "light"
     },
     "output_type": "display_data"
    }
   ],
   "source": [
    "## Prediction probabilty distribution of errors causing low precision\n",
    "sns.distplot(low_prec.y_pred_prob, hist=False)"
   ]
  },
  {
   "cell_type": "code",
   "execution_count": null,
   "metadata": {
    "pycharm": {
     "name": "#%%\n"
    }
   },
   "outputs": [],
   "source": []
  },
  {
   "cell_type": "markdown",
   "metadata": {},
   "source": [
    "### Train final, best model ; Save model and its parameters"
   ]
  },
  {
   "cell_type": "code",
   "execution_count": 80,
   "metadata": {
    "pycharm": {
     "name": "#%%\n"
    }
   },
   "outputs": [],
   "source": [
    "from sklearn.pipeline import Pipeline\n",
    "from lightgbm import LGBMClassifier\n",
    "from sklearn.metrics import roc_auc_score, f1_score, recall_score, confusion_matrix, classification_report\n",
    "import joblib"
   ]
  },
  {
   "cell_type": "code",
   "execution_count": 81,
   "metadata": {
    "pycharm": {
     "name": "#%%\n"
    }
   },
   "outputs": [
    {
     "data": {
      "text/plain": [
       "((7920, 11), (7920,))"
      ]
     },
     "execution_count": 81,
     "metadata": {},
     "output_type": "execute_result"
    },
    {
     "data": {
      "text/plain": [
       "((1080, 11), (1080,))"
      ]
     },
     "execution_count": 81,
     "metadata": {},
     "output_type": "execute_result"
    }
   ],
   "source": [
    "## Re-defining X_train and X_val to consider original unscaled continuous features. y_train and y_val remain unaffected\n",
    "X_train = df_train.drop(columns = ['Exited'], axis = 1)\n",
    "X_val = df_val.drop(columns = ['Exited'], axis = 1)\n",
    "\n",
    "X_train.shape, y_train.shape\n",
    "X_val.shape, y_val.shape"
   ]
  },
  {
   "cell_type": "code",
   "execution_count": 82,
   "metadata": {
    "pycharm": {
     "name": "#%%\n"
    }
   },
   "outputs": [],
   "source": [
    "best_f1_lgb = LGBMClassifier(boosting_type = 'dart', class_weight = {0: 1, 1: 3.0}, min_child_samples = 20, n_jobs = - 1\n",
    "                     , importance_type = 'gain', max_depth = 6, num_leaves = 63, colsample_bytree = 0.6, learning_rate = 0.1\n",
    "                     , n_estimators = 201, reg_alpha = 1, reg_lambda = 1)"
   ]
  },
  {
   "cell_type": "code",
   "execution_count": 83,
   "metadata": {
    "pycharm": {
     "name": "#%%\n"
    }
   },
   "outputs": [],
   "source": [
    "best_recall_lgb = LGBMClassifier(boosting_type='dart', num_leaves=31, max_depth= 6, learning_rate=0.1, n_estimators = 21\n",
    "                                 , class_weight= {0: 1, 1: 3.93}, min_child_samples=2, colsample_bytree=0.6, reg_alpha=0.3\n",
    "                                 , reg_lambda=1.0, n_jobs=- 1, importance_type = 'gain')"
   ]
  },
  {
   "cell_type": "code",
   "execution_count": 84,
   "metadata": {
    "pycharm": {
     "name": "#%%\n"
    }
   },
   "outputs": [],
   "source": [
    "model = Pipeline(steps = [('categorical_encoding', CategoricalEncoder()),\n",
    "                          ('add_new_features', AddFeatures()),\n",
    "                          ('classifier', best_f1_lgb)\n",
    "                         ])"
   ]
  },
  {
   "cell_type": "code",
   "execution_count": 85,
   "metadata": {
    "pycharm": {
     "name": "#%%\n"
    }
   },
   "outputs": [
    {
     "data": {
      "text/plain": [
       "Pipeline(steps=[('categorical_encoding',\n",
       "                 CategoricalEncoder(cols=['Surname', 'Geography', 'Gender'],\n",
       "                                    lcols=['Gender'], ohecols=['Geography'],\n",
       "                                    tcols=['Surname'])),\n",
       "                ('add_new_features', AddFeatures()),\n",
       "                ('classifier',\n",
       "                 LGBMClassifier(boosting_type='dart',\n",
       "                                class_weight={0: 1, 1: 3.0},\n",
       "                                colsample_bytree=0.6, importance_type='gain',\n",
       "                                max_depth=6, n_estimators=201, num_leaves=63,\n",
       "                                reg_alpha=1, reg_lambda=1))])"
      ]
     },
     "execution_count": 85,
     "metadata": {},
     "output_type": "execute_result"
    }
   ],
   "source": [
    "## Fitting final model on train dataset\n",
    "model.fit(X_train, y_train)"
   ]
  },
  {
   "cell_type": "code",
   "execution_count": 86,
   "metadata": {
    "pycharm": {
     "name": "#%%\n"
    }
   },
   "outputs": [],
   "source": [
    "# Predict target probabilities\n",
    "val_probs = model.predict_proba(X_val)[:,1]\n",
    "\n",
    "# Predict target values on val data\n",
    "val_preds = np.where(val_probs > 0.45, 1, 0) # The probability threshold can be tweaked"
   ]
  },
  {
   "cell_type": "code",
   "execution_count": 87,
   "metadata": {
    "pycharm": {
     "name": "#%%\n"
    }
   },
   "outputs": [
    {
     "data": {
      "text/plain": [
       "<AxesSubplot:>"
      ]
     },
     "execution_count": 87,
     "metadata": {},
     "output_type": "execute_result"
    },
    {
     "data": {
      "image/png": "[encoded data removed]",
      "text/plain": [
       "<Figure size 432x288 with 1 Axes>"
      ]
     },
     "metadata": {
      "needs_background": "light"
     },
     "output_type": "display_data"
    }
   ],
   "source": [
    "sns.boxplot(y_val.ravel(), val_probs)"
   ]
  },
  {
   "cell_type": "code",
   "execution_count": 88,
   "metadata": {
    "pycharm": {
     "name": "#%%\n"
    }
   },
   "outputs": [
    {
     "data": {
      "text/plain": [
       "0.7736431864907484"
      ]
     },
     "execution_count": 88,
     "metadata": {},
     "output_type": "execute_result"
    },
    {
     "data": {
      "text/plain": [
       "0.7016806722689075"
      ]
     },
     "execution_count": 88,
     "metadata": {},
     "output_type": "execute_result"
    },
    {
     "data": {
      "text/plain": [
       "array([[712, 130],\n",
       "       [ 71, 167]])"
      ]
     },
     "execution_count": 88,
     "metadata": {},
     "output_type": "execute_result"
    },
    {
     "name": "stdout",
     "output_type": "stream",
     "text": [
      "              precision    recall  f1-score   support\n",
      "\n",
      "           0       0.91      0.85      0.88       842\n",
      "           1       0.56      0.70      0.62       238\n",
      "\n",
      "    accuracy                           0.81      1080\n",
      "   macro avg       0.74      0.77      0.75      1080\n",
      "weighted avg       0.83      0.81      0.82      1080\n",
      "\n"
     ]
    }
   ],
   "source": [
    "## Validation metrics\n",
    "roc_auc_score(y_val, val_preds)\n",
    "recall_score(y_val, val_preds)\n",
    "confusion_matrix(y_val, val_preds)\n",
    "print(classification_report(y_val, val_preds))"
   ]
  },
  {
   "cell_type": "code",
   "execution_count": 89,
   "metadata": {
    "pycharm": {
     "name": "#%%\n"
    }
   },
   "outputs": [
    {
     "data": {
      "text/plain": [
       "['churn_model_f1_0_45.sav']"
      ]
     },
     "execution_count": 89,
     "metadata": {},
     "output_type": "execute_result"
    }
   ],
   "source": [
    "## Save model object\n",
    "joblib.dump(model, 'churn_model_f1_0_45.sav')"
   ]
  },
  {
   "cell_type": "code",
   "execution_count": null,
   "metadata": {
    "pycharm": {
     "name": "#%%\n"
    }
   },
   "outputs": [],
   "source": []
  },
  {
   "cell_type": "markdown",
   "metadata": {},
   "source": [
    "### Load saved model and make predictions on unseen/future data\n",
    "\n",
    "Here, we'll use df_test as the unseen, future data"
   ]
  },
  {
   "cell_type": "code",
   "execution_count": 90,
   "metadata": {
    "pycharm": {
     "name": "#%%\n"
    }
   },
   "outputs": [],
   "source": [
    "import joblib"
   ]
  },
  {
   "cell_type": "code",
   "execution_count": 91,
   "metadata": {
    "pycharm": {
     "name": "#%%\n"
    }
   },
   "outputs": [],
   "source": [
    "## Load model object\n",
    "model = joblib.load('churn_model_f1_0_45.sav')"
   ]
  },
  {
   "cell_type": "code",
   "execution_count": 92,
   "metadata": {
    "pycharm": {
     "name": "#%%\n"
    }
   },
   "outputs": [
    {
     "data": {
      "text/plain": [
       "(1000, 11)"
      ]
     },
     "execution_count": 92,
     "metadata": {},
     "output_type": "execute_result"
    },
    {
     "data": {
      "text/plain": [
       "(1000,)"
      ]
     },
     "execution_count": 92,
     "metadata": {},
     "output_type": "execute_result"
    }
   ],
   "source": [
    "X_test = df_test.drop(columns = ['Exited'], axis = 1)\n",
    "X_test.shape\n",
    "y_test.shape"
   ]
  },
  {
   "cell_type": "code",
   "execution_count": 93,
   "metadata": {
    "pycharm": {
     "name": "#%%\n"
    }
   },
   "outputs": [],
   "source": [
    "## Predict target probabilities\n",
    "test_probs = model.predict_proba(X_test)[:,1]"
   ]
  },
  {
   "cell_type": "code",
   "execution_count": 94,
   "metadata": {
    "pycharm": {
     "name": "#%%\n"
    }
   },
   "outputs": [],
   "source": [
    "## Predict target values on test data\n",
    "test_preds = np.where(test_probs > 0.45, 1, 0) # Flexibility to tweak the probability threshold\n",
    "#test_preds = model.predict(X_test)"
   ]
  },
  {
   "cell_type": "code",
   "execution_count": 95,
   "metadata": {
    "pycharm": {
     "name": "#%%\n"
    }
   },
   "outputs": [
    {
     "data": {
      "text/plain": [
       "<AxesSubplot:>"
      ]
     },
     "execution_count": 95,
     "metadata": {},
     "output_type": "execute_result"
    },
    {
     "data": {
      "image/png": "[encoded data removed]",
      "text/plain": [
       "<Figure size 432x288 with 1 Axes>"
      ]
     },
     "metadata": {
      "needs_background": "light"
     },
     "output_type": "display_data"
    }
   ],
   "source": [
    "sns.boxplot(y_test.ravel(), test_probs)"
   ]
  },
  {
   "cell_type": "code",
   "execution_count": 96,
   "metadata": {
    "pycharm": {
     "name": "#%%\n"
    }
   },
   "outputs": [
    {
     "data": {
      "text/plain": [
       "0.79647163132042"
      ]
     },
     "execution_count": 96,
     "metadata": {},
     "output_type": "execute_result"
    },
    {
     "data": {
      "text/plain": [
       "0.7486910994764397"
      ]
     },
     "execution_count": 96,
     "metadata": {},
     "output_type": "execute_result"
    },
    {
     "data": {
      "text/plain": [
       "array([[683, 126],\n",
       "       [ 48, 143]])"
      ]
     },
     "execution_count": 96,
     "metadata": {},
     "output_type": "execute_result"
    },
    {
     "name": "stdout",
     "output_type": "stream",
     "text": [
      "              precision    recall  f1-score   support\n",
      "\n",
      "           0       0.93      0.84      0.89       809\n",
      "           1       0.53      0.75      0.62       191\n",
      "\n",
      "    accuracy                           0.83      1000\n",
      "   macro avg       0.73      0.80      0.75      1000\n",
      "weighted avg       0.86      0.83      0.84      1000\n",
      "\n"
     ]
    }
   ],
   "source": [
    "## Test set metrics\n",
    "roc_auc_score(y_test, test_preds)\n",
    "recall_score(y_test, test_preds)\n",
    "confusion_matrix(y_test, test_preds)\n",
    "print(classification_report(y_test, test_preds))"
   ]
  },
  {
   "cell_type": "code",
   "execution_count": 97,
   "metadata": {
    "pycharm": {
     "name": "#%%\n"
    }
   },
   "outputs": [],
   "source": [
    "## Adding predictions and their probabilities in the original test dataframe\n",
    "test = df_test.copy()\n",
    "test['predictions'] = test_preds\n",
    "test['pred_probabilities'] = test_probs"
   ]
  },
  {
   "cell_type": "code",
   "execution_count": 98,
   "metadata": {
    "pycharm": {
     "name": "#%%\n"
    }
   },
   "outputs": [
    {
     "data": {
      "text/html": [
       "<div>\n",
       "<style scoped>\n",
       "    .dataframe tbody tr th:only-of-type {\n",
       "        vertical-align: middle;\n",
       "    }\n",
       "\n",
       "    .dataframe tbody tr th {\n",
       "        vertical-align: top;\n",
       "    }\n",
       "\n",
       "    .dataframe thead th {\n",
       "        text-align: right;\n",
       "    }\n",
       "</style>\n",
       "<table border=\"1\" class=\"dataframe\">\n",
       "  <thead>\n",
       "    <tr style=\"text-align: right;\">\n",
       "      <th></th>\n",
       "      <th>Surname</th>\n",
       "      <th>CreditScore</th>\n",
       "      <th>Geography</th>\n",
       "      <th>Gender</th>\n",
       "      <th>Age</th>\n",
       "      <th>Tenure</th>\n",
       "      <th>Balance</th>\n",
       "      <th>NumOfProducts</th>\n",
       "      <th>HasCrCard</th>\n",
       "      <th>IsActiveMember</th>\n",
       "      <th>EstimatedSalary</th>\n",
       "      <th>Exited</th>\n",
       "      <th>predictions</th>\n",
       "      <th>pred_probabilities</th>\n",
       "    </tr>\n",
       "  </thead>\n",
       "  <tbody>\n",
       "    <tr>\n",
       "      <th>4049</th>\n",
       "      <td>Burns</td>\n",
       "      <td>618</td>\n",
       "      <td>Spain</td>\n",
       "      <td>Male</td>\n",
       "      <td>33</td>\n",
       "      <td>4</td>\n",
       "      <td>0.00</td>\n",
       "      <td>2</td>\n",
       "      <td>1</td>\n",
       "      <td>1</td>\n",
       "      <td>77550.18</td>\n",
       "      <td>0</td>\n",
       "      <td>0</td>\n",
       "      <td>0.028719</td>\n",
       "    </tr>\n",
       "    <tr>\n",
       "      <th>5306</th>\n",
       "      <td>Kaodilinakachukwu</td>\n",
       "      <td>605</td>\n",
       "      <td>France</td>\n",
       "      <td>Female</td>\n",
       "      <td>51</td>\n",
       "      <td>9</td>\n",
       "      <td>104760.82</td>\n",
       "      <td>1</td>\n",
       "      <td>1</td>\n",
       "      <td>1</td>\n",
       "      <td>165574.54</td>\n",
       "      <td>1</td>\n",
       "      <td>1</td>\n",
       "      <td>0.500040</td>\n",
       "    </tr>\n",
       "    <tr>\n",
       "      <th>5968</th>\n",
       "      <td>Tai</td>\n",
       "      <td>526</td>\n",
       "      <td>France</td>\n",
       "      <td>Male</td>\n",
       "      <td>28</td>\n",
       "      <td>1</td>\n",
       "      <td>112070.44</td>\n",
       "      <td>1</td>\n",
       "      <td>0</td>\n",
       "      <td>1</td>\n",
       "      <td>126281.83</td>\n",
       "      <td>0</td>\n",
       "      <td>0</td>\n",
       "      <td>0.090424</td>\n",
       "    </tr>\n",
       "    <tr>\n",
       "      <th>2184</th>\n",
       "      <td>Ogochukwu</td>\n",
       "      <td>652</td>\n",
       "      <td>France</td>\n",
       "      <td>Female</td>\n",
       "      <td>40</td>\n",
       "      <td>1</td>\n",
       "      <td>0.00</td>\n",
       "      <td>2</td>\n",
       "      <td>1</td>\n",
       "      <td>0</td>\n",
       "      <td>126554.96</td>\n",
       "      <td>0</td>\n",
       "      <td>0</td>\n",
       "      <td>0.133584</td>\n",
       "    </tr>\n",
       "    <tr>\n",
       "      <th>7801</th>\n",
       "      <td>Chijindum</td>\n",
       "      <td>678</td>\n",
       "      <td>France</td>\n",
       "      <td>Male</td>\n",
       "      <td>54</td>\n",
       "      <td>7</td>\n",
       "      <td>128914.97</td>\n",
       "      <td>1</td>\n",
       "      <td>0</td>\n",
       "      <td>0</td>\n",
       "      <td>191746.23</td>\n",
       "      <td>1</td>\n",
       "      <td>1</td>\n",
       "      <td>0.901559</td>\n",
       "    </tr>\n",
       "    <tr>\n",
       "      <th>3079</th>\n",
       "      <td>Monaldo</td>\n",
       "      <td>757</td>\n",
       "      <td>Germany</td>\n",
       "      <td>Female</td>\n",
       "      <td>34</td>\n",
       "      <td>1</td>\n",
       "      <td>129398.01</td>\n",
       "      <td>2</td>\n",
       "      <td>0</td>\n",
       "      <td>0</td>\n",
       "      <td>44965.44</td>\n",
       "      <td>0</td>\n",
       "      <td>0</td>\n",
       "      <td>0.180424</td>\n",
       "    </tr>\n",
       "    <tr>\n",
       "      <th>6120</th>\n",
       "      <td>Lei</td>\n",
       "      <td>715</td>\n",
       "      <td>France</td>\n",
       "      <td>Male</td>\n",
       "      <td>40</td>\n",
       "      <td>7</td>\n",
       "      <td>0.00</td>\n",
       "      <td>1</td>\n",
       "      <td>1</td>\n",
       "      <td>1</td>\n",
       "      <td>141359.11</td>\n",
       "      <td>0</td>\n",
       "      <td>0</td>\n",
       "      <td>0.330511</td>\n",
       "    </tr>\n",
       "    <tr>\n",
       "      <th>6410</th>\n",
       "      <td>Chao</td>\n",
       "      <td>689</td>\n",
       "      <td>Spain</td>\n",
       "      <td>Female</td>\n",
       "      <td>63</td>\n",
       "      <td>1</td>\n",
       "      <td>0.00</td>\n",
       "      <td>2</td>\n",
       "      <td>1</td>\n",
       "      <td>1</td>\n",
       "      <td>186526.12</td>\n",
       "      <td>0</td>\n",
       "      <td>0</td>\n",
       "      <td>0.122595</td>\n",
       "    </tr>\n",
       "    <tr>\n",
       "      <th>1175</th>\n",
       "      <td>Atkins</td>\n",
       "      <td>719</td>\n",
       "      <td>Spain</td>\n",
       "      <td>Male</td>\n",
       "      <td>39</td>\n",
       "      <td>5</td>\n",
       "      <td>0.00</td>\n",
       "      <td>2</td>\n",
       "      <td>1</td>\n",
       "      <td>0</td>\n",
       "      <td>145759.70</td>\n",
       "      <td>0</td>\n",
       "      <td>0</td>\n",
       "      <td>0.055866</td>\n",
       "    </tr>\n",
       "    <tr>\n",
       "      <th>1658</th>\n",
       "      <td>Obialo</td>\n",
       "      <td>748</td>\n",
       "      <td>France</td>\n",
       "      <td>Male</td>\n",
       "      <td>44</td>\n",
       "      <td>2</td>\n",
       "      <td>92911.52</td>\n",
       "      <td>1</td>\n",
       "      <td>0</td>\n",
       "      <td>1</td>\n",
       "      <td>85495.24</td>\n",
       "      <td>0</td>\n",
       "      <td>0</td>\n",
       "      <td>0.313686</td>\n",
       "    </tr>\n",
       "  </tbody>\n",
       "</table>\n",
       "</div>"
      ],
      "text/plain": [
       "                Surname  CreditScore Geography  Gender  Age  Tenure  \\\n",
       "4049              Burns          618     Spain    Male   33       4   \n",
       "5306  Kaodilinakachukwu          605    France  Female   51       9   \n",
       "5968                Tai          526    France    Male   28       1   \n",
       "2184          Ogochukwu          652    France  Female   40       1   \n",
       "7801          Chijindum          678    France    Male   54       7   \n",
       "3079            Monaldo          757   Germany  Female   34       1   \n",
       "6120                Lei          715    France    Male   40       7   \n",
       "6410               Chao          689     Spain  Female   63       1   \n",
       "1175             Atkins          719     Spain    Male   39       5   \n",
       "1658             Obialo          748    France    Male   44       2   \n",
       "\n",
       "        Balance  NumOfProducts  HasCrCard  IsActiveMember  EstimatedSalary  \\\n",
       "4049       0.00              2          1               1         77550.18   \n",
       "5306  104760.82              1          1               1        165574.54   \n",
       "5968  112070.44              1          0               1        126281.83   \n",
       "2184       0.00              2          1               0        126554.96   \n",
       "7801  128914.97              1          0               0        191746.23   \n",
       "3079  129398.01              2          0               0         44965.44   \n",
       "6120       0.00              1          1               1        141359.11   \n",
       "6410       0.00              2          1               1        186526.12   \n",
       "1175       0.00              2          1               0        145759.70   \n",
       "1658   92911.52              1          0               1         85495.24   \n",
       "\n",
       "      Exited  predictions  pred_probabilities  \n",
       "4049       0            0            0.028719  \n",
       "5306       1            1            0.500040  \n",
       "5968       0            0            0.090424  \n",
       "2184       0            0            0.133584  \n",
       "7801       1            1            0.901559  \n",
       "3079       0            0            0.180424  \n",
       "6120       0            0            0.330511  \n",
       "6410       0            0            0.122595  \n",
       "1175       0            0            0.055866  \n",
       "1658       0            0            0.313686  "
      ]
     },
     "execution_count": 98,
     "metadata": {},
     "output_type": "execute_result"
    }
   ],
   "source": [
    "test.sample(10)"
   ]
  },
  {
   "cell_type": "code",
   "execution_count": null,
   "metadata": {
    "pycharm": {
     "name": "#%%\n"
    }
   },
   "outputs": [],
   "source": []
  },
  {
   "cell_type": "markdown",
   "metadata": {},
   "source": [
    "#### Creating a list of customers who are the most likely to churn"
   ]
  },
  {
   "cell_type": "markdown",
   "metadata": {},
   "source": [
    "Listing customers who have a churn probability higher than 70%."
   ]
  },
  {
   "cell_type": "code",
   "execution_count": 99,
   "metadata": {
    "pycharm": {
     "name": "#%%\n"
    }
   },
   "outputs": [],
   "source": [
    "high_churn_list = test[test.pred_probabilities > 0.7].sort_values(by = ['pred_probabilities'], ascending = False).reset_index().drop(columns = ['index', 'Exited', 'predictions'], axis = 1)"
   ]
  },
  {
   "cell_type": "code",
   "execution_count": 100,
   "metadata": {
    "pycharm": {
     "name": "#%%\n"
    }
   },
   "outputs": [
    {
     "data": {
      "text/plain": [
       "(120, 12)"
      ]
     },
     "execution_count": 100,
     "metadata": {},
     "output_type": "execute_result"
    },
    {
     "data": {
      "text/html": [
       "<div>\n",
       "<style scoped>\n",
       "    .dataframe tbody tr th:only-of-type {\n",
       "        vertical-align: middle;\n",
       "    }\n",
       "\n",
       "    .dataframe tbody tr th {\n",
       "        vertical-align: top;\n",
       "    }\n",
       "\n",
       "    .dataframe thead th {\n",
       "        text-align: right;\n",
       "    }\n",
       "</style>\n",
       "<table border=\"1\" class=\"dataframe\">\n",
       "  <thead>\n",
       "    <tr style=\"text-align: right;\">\n",
       "      <th></th>\n",
       "      <th>Surname</th>\n",
       "      <th>CreditScore</th>\n",
       "      <th>Geography</th>\n",
       "      <th>Gender</th>\n",
       "      <th>Age</th>\n",
       "      <th>Tenure</th>\n",
       "      <th>Balance</th>\n",
       "      <th>NumOfProducts</th>\n",
       "      <th>HasCrCard</th>\n",
       "      <th>IsActiveMember</th>\n",
       "      <th>EstimatedSalary</th>\n",
       "      <th>pred_probabilities</th>\n",
       "    </tr>\n",
       "  </thead>\n",
       "  <tbody>\n",
       "    <tr>\n",
       "      <th>0</th>\n",
       "      <td>Chibueze</td>\n",
       "      <td>546</td>\n",
       "      <td>Germany</td>\n",
       "      <td>Female</td>\n",
       "      <td>58</td>\n",
       "      <td>3</td>\n",
       "      <td>106458.31</td>\n",
       "      <td>4</td>\n",
       "      <td>1</td>\n",
       "      <td>0</td>\n",
       "      <td>128881.87</td>\n",
       "      <td>0.994313</td>\n",
       "    </tr>\n",
       "    <tr>\n",
       "      <th>1</th>\n",
       "      <td>Walton</td>\n",
       "      <td>479</td>\n",
       "      <td>Germany</td>\n",
       "      <td>Male</td>\n",
       "      <td>51</td>\n",
       "      <td>1</td>\n",
       "      <td>107714.74</td>\n",
       "      <td>3</td>\n",
       "      <td>1</td>\n",
       "      <td>0</td>\n",
       "      <td>86128.21</td>\n",
       "      <td>0.988470</td>\n",
       "    </tr>\n",
       "    <tr>\n",
       "      <th>2</th>\n",
       "      <td>Galgano</td>\n",
       "      <td>665</td>\n",
       "      <td>Germany</td>\n",
       "      <td>Female</td>\n",
       "      <td>43</td>\n",
       "      <td>2</td>\n",
       "      <td>116322.27</td>\n",
       "      <td>4</td>\n",
       "      <td>1</td>\n",
       "      <td>0</td>\n",
       "      <td>35640.12</td>\n",
       "      <td>0.982883</td>\n",
       "    </tr>\n",
       "    <tr>\n",
       "      <th>3</th>\n",
       "      <td>Findlay</td>\n",
       "      <td>515</td>\n",
       "      <td>Germany</td>\n",
       "      <td>Male</td>\n",
       "      <td>45</td>\n",
       "      <td>7</td>\n",
       "      <td>120961.50</td>\n",
       "      <td>3</td>\n",
       "      <td>1</td>\n",
       "      <td>1</td>\n",
       "      <td>39288.11</td>\n",
       "      <td>0.981324</td>\n",
       "    </tr>\n",
       "    <tr>\n",
       "      <th>4</th>\n",
       "      <td>Christopher</td>\n",
       "      <td>697</td>\n",
       "      <td>France</td>\n",
       "      <td>Female</td>\n",
       "      <td>49</td>\n",
       "      <td>7</td>\n",
       "      <td>195238.29</td>\n",
       "      <td>4</td>\n",
       "      <td>0</td>\n",
       "      <td>1</td>\n",
       "      <td>131083.56</td>\n",
       "      <td>0.977195</td>\n",
       "    </tr>\n",
       "  </tbody>\n",
       "</table>\n",
       "</div>"
      ],
      "text/plain": [
       "       Surname  CreditScore Geography  Gender  Age  Tenure    Balance  \\\n",
       "0     Chibueze          546   Germany  Female   58       3  106458.31   \n",
       "1       Walton          479   Germany    Male   51       1  107714.74   \n",
       "2      Galgano          665   Germany  Female   43       2  116322.27   \n",
       "3      Findlay          515   Germany    Male   45       7  120961.50   \n",
       "4  Christopher          697    France  Female   49       7  195238.29   \n",
       "\n",
       "   NumOfProducts  HasCrCard  IsActiveMember  EstimatedSalary  \\\n",
       "0              4          1               0        128881.87   \n",
       "1              3          1               0         86128.21   \n",
       "2              4          1               0         35640.12   \n",
       "3              3          1               1         39288.11   \n",
       "4              4          0               1        131083.56   \n",
       "\n",
       "   pred_probabilities  \n",
       "0            0.994313  \n",
       "1            0.988470  \n",
       "2            0.982883  \n",
       "3            0.981324  \n",
       "4            0.977195  "
      ]
     },
     "execution_count": 100,
     "metadata": {},
     "output_type": "execute_result"
    }
   ],
   "source": [
    "high_churn_list.shape\n",
    "high_churn_list.head()"
   ]
  },
  {
   "cell_type": "code",
   "execution_count": 101,
   "metadata": {
    "pycharm": {
     "name": "#%%\n"
    }
   },
   "outputs": [],
   "source": [
    "high_churn_list.to_csv('high_churn.csv', index = False)"
   ]
  },
  {
   "cell_type": "code",
   "execution_count": null,
   "metadata": {},
   "outputs": [],
   "source": []
  }
 ],
 "metadata": {
  "kernelspec": {
   "display_name": "Python 3",
   "language": "python",
   "name": "python3"
  },
  "language_info": {
   "codemirror_mode": {
    "name": "ipython",
    "version": 3
   },
   "file_extension": ".py",
   "mimetype": "text/x-python",
   "name": "python",
   "nbconvert_exporter": "python",
   "pygments_lexer": "ipython3",
   "version": "3.8.2"
  },
  "pycharm": {
   "stem_cell": {
    "cell_type": "raw",
    "metadata": {
     "collapsed": false
    },
    "source": []
   }
  }
 },
 "nbformat": 4,
 "nbformat_minor": 2
}
